{
 "cells": [
  {
   "cell_type": "markdown",
   "id": "ea561772",
   "metadata": {},
   "source": [
    "# Extract insights using LLM "
   ]
  },
  {
   "cell_type": "code",
   "execution_count": 1,
   "id": "e444f417",
   "metadata": {},
   "outputs": [],
   "source": [
    "import pandas as pd \n",
    "import re \n",
    "import numpy as np \n",
    "import json\n",
    "from ast import literal_eval\n",
    "pd.set_option('display.max_colwidth', 200)\n",
    "from time import time"
   ]
  },
  {
   "cell_type": "code",
   "execution_count": 2,
   "id": "6bd32bee",
   "metadata": {},
   "outputs": [
    {
     "data": {
      "text/plain": [
       "(31, 6)"
      ]
     },
     "execution_count": 2,
     "metadata": {},
     "output_type": "execute_result"
    }
   ],
   "source": [
    "df_filtered = pd.read_csv(\"../outputs/filtered_articles_df.csv\")\n",
    "df_filtered.shape"
   ]
  },
  {
   "cell_type": "code",
   "execution_count": 3,
   "id": "4e4422ca",
   "metadata": {},
   "outputs": [
    {
     "data": {
      "text/html": [
       "<div>\n",
       "<style scoped>\n",
       "    .dataframe tbody tr th:only-of-type {\n",
       "        vertical-align: middle;\n",
       "    }\n",
       "\n",
       "    .dataframe tbody tr th {\n",
       "        vertical-align: top;\n",
       "    }\n",
       "\n",
       "    .dataframe thead th {\n",
       "        text-align: right;\n",
       "    }\n",
       "</style>\n",
       "<table border=\"1\" class=\"dataframe\">\n",
       "  <thead>\n",
       "    <tr style=\"text-align: right;\">\n",
       "      <th></th>\n",
       "      <th>pubmed_id</th>\n",
       "      <th>title</th>\n",
       "      <th>journal</th>\n",
       "      <th>keywords</th>\n",
       "      <th>abstract</th>\n",
       "      <th>llm_class</th>\n",
       "    </tr>\n",
       "  </thead>\n",
       "  <tbody>\n",
       "    <tr>\n",
       "      <th>16</th>\n",
       "      <td>40166174</td>\n",
       "      <td>High-throughput single cell -omics using semi-permeable capsules.</td>\n",
       "      <td>bioRxiv : the preprint server for biology (bioRxiv)</td>\n",
       "      <td></td>\n",
       "      <td>Biological systems are inherently complex and heterogeneous. Deciphering this complexity increasingly relies on high-throughput analytical methods and tools that efficiently probe the cellular ph...</td>\n",
       "      <td>relevant</td>\n",
       "    </tr>\n",
       "  </tbody>\n",
       "</table>\n",
       "</div>"
      ],
      "text/plain": [
       "    pubmed_id  \\\n",
       "16   40166174   \n",
       "\n",
       "                                                                title  \\\n",
       "16  High-throughput single cell -omics using semi-permeable capsules.   \n",
       "\n",
       "                                                journal keywords  \\\n",
       "16  bioRxiv : the preprint server for biology (bioRxiv)            \n",
       "\n",
       "                                                                                                                                                                                                   abstract  \\\n",
       "16   Biological systems are inherently complex and heterogeneous. Deciphering this complexity increasingly relies on high-throughput analytical methods and tools that efficiently probe the cellular ph...   \n",
       "\n",
       "   llm_class  \n",
       "16  relevant  "
      ]
     },
     "execution_count": 3,
     "metadata": {},
     "output_type": "execute_result"
    }
   ],
   "source": [
    "df_filtered.sample(1)"
   ]
  },
  {
   "cell_type": "code",
   "execution_count": 8,
   "id": "0feec5ac",
   "metadata": {},
   "outputs": [],
   "source": [
    "def write_full_text(pubmed_id,title,abstract):\n",
    "    text = \"\"\n",
    "    text += \"PUBMED_ID :\" + str(pubmed_id) +\"\\n\"\n",
    "    text += \"Title :\" + title + \"\\n\\n\"\n",
    "    text += \"Abstract :\\n\" + abstract + \"\\n\"\n",
    "    \n",
    "    return text.strip()"
   ]
  },
  {
   "cell_type": "code",
   "execution_count": 9,
   "id": "dd91b757",
   "metadata": {},
   "outputs": [],
   "source": [
    "df_filtered[\"full_text\"] = df_filtered.apply(lambda row: write_full_text(row[\"pubmed_id\"],row[\"title\"],row[\"abstract\"]),axis = 1)"
   ]
  },
  {
   "cell_type": "code",
   "execution_count": 10,
   "id": "4e24308d",
   "metadata": {},
   "outputs": [
    {
     "data": {
      "text/html": [
       "<div>\n",
       "<style scoped>\n",
       "    .dataframe tbody tr th:only-of-type {\n",
       "        vertical-align: middle;\n",
       "    }\n",
       "\n",
       "    .dataframe tbody tr th {\n",
       "        vertical-align: top;\n",
       "    }\n",
       "\n",
       "    .dataframe thead th {\n",
       "        text-align: right;\n",
       "    }\n",
       "</style>\n",
       "<table border=\"1\" class=\"dataframe\">\n",
       "  <thead>\n",
       "    <tr style=\"text-align: right;\">\n",
       "      <th></th>\n",
       "      <th>pubmed_id</th>\n",
       "      <th>title</th>\n",
       "      <th>journal</th>\n",
       "      <th>keywords</th>\n",
       "      <th>abstract</th>\n",
       "      <th>llm_class</th>\n",
       "      <th>full_text</th>\n",
       "    </tr>\n",
       "  </thead>\n",
       "  <tbody>\n",
       "    <tr>\n",
       "      <th>11</th>\n",
       "      <td>40157909</td>\n",
       "      <td>A novel clinically relevant antagonistic interplay between prolactin and oncogenic YAP-CCN2 pathways as a differentiation therapeutic target in breast cancer.</td>\n",
       "      <td>Cell death &amp; disease (Cell Death Dis)</td>\n",
       "      <td></td>\n",
       "      <td>Cellular differentiation limits cellular plasticity allowing cells to attain their specialized functional characteristics and phenotypes, whereas loss of differentiation is a hallmark of cancer. ...</td>\n",
       "      <td>relevant</td>\n",
       "      <td>PUBMED_ID :40157909\\nTitle :A novel clinically relevant antagonistic interplay between prolactin and oncogenic YAP-CCN2 pathways as a differentiation therapeutic target in breast cancer.\\n\\nAbstra...</td>\n",
       "    </tr>\n",
       "  </tbody>\n",
       "</table>\n",
       "</div>"
      ],
      "text/plain": [
       "    pubmed_id  \\\n",
       "11   40157909   \n",
       "\n",
       "                                                                                                                                                             title  \\\n",
       "11  A novel clinically relevant antagonistic interplay between prolactin and oncogenic YAP-CCN2 pathways as a differentiation therapeutic target in breast cancer.   \n",
       "\n",
       "                                  journal keywords  \\\n",
       "11  Cell death & disease (Cell Death Dis)            \n",
       "\n",
       "                                                                                                                                                                                                   abstract  \\\n",
       "11   Cellular differentiation limits cellular plasticity allowing cells to attain their specialized functional characteristics and phenotypes, whereas loss of differentiation is a hallmark of cancer. ...   \n",
       "\n",
       "   llm_class  \\\n",
       "11  relevant   \n",
       "\n",
       "                                                                                                                                                                                                  full_text  \n",
       "11  PUBMED_ID :40157909\\nTitle :A novel clinically relevant antagonistic interplay between prolactin and oncogenic YAP-CCN2 pathways as a differentiation therapeutic target in breast cancer.\\n\\nAbstra...  "
      ]
     },
     "execution_count": 10,
     "metadata": {},
     "output_type": "execute_result"
    }
   ],
   "source": [
    "df_filtered.sample(1)"
   ]
  },
  {
   "cell_type": "code",
   "execution_count": 11,
   "id": "bb98ca47",
   "metadata": {},
   "outputs": [
    {
     "name": "stdout",
     "output_type": "stream",
     "text": [
      "PUBMED_ID :40207234\n",
      "Title :The distinctive signature of regulatory CD4 T cells committed in the human thymus.\n",
      "\n",
      "Abstract :\n",
      " Thymically committed regulatory CD4 T cells (tTregs) are essential for immune homeostasis and self- tolerance. We established the human tTreg Expression Signature by comparing genome-wide transcriptomic profiles between tTregs and their conventional counterparts (tTconvs). We further exploited the high sequencing depth of our bulk RNA-seq data to identify a subset of 250 genes significantly expressed in human tTregs and with neglectable expression in tTconvs, defined as below the levels of expression of <i>IL2RA</i>, that we named thymic Treg \"private\" genes. Notably, pathways related to cell motility, inflammation, and T-cell effector specification were overrepresented within the tTreg private genes. We found that 163 of these genes were significantly less expressed in circulating naïve and memory Tregs when compared to peripheral data generated in parallel. This result suggested a higher activity for most of the \"private\" genes in the thymus when compared to the peripheral compartments. Altogether, we provide a unique resource to inform future studies, such as for improving annotation in single-cell and spatial transcriptional data, or help in designing human studies to validate putative biomarkers for thymically committed Tregs, a priority in the field.\n"
     ]
    }
   ],
   "source": [
    "print(df_filtered[\"full_text\"][0])"
   ]
  },
  {
   "cell_type": "code",
   "execution_count": 12,
   "id": "d87ef1a6",
   "metadata": {},
   "outputs": [
    {
     "data": {
      "text/plain": [
       "31"
      ]
     },
     "execution_count": 12,
     "metadata": {},
     "output_type": "execute_result"
    }
   ],
   "source": [
    "text_list = df_filtered[\"full_text\"].tolist()\n",
    "len(text_list)"
   ]
  },
  {
   "cell_type": "code",
   "execution_count": 24,
   "id": "a0595a7a",
   "metadata": {},
   "outputs": [],
   "source": [
    "prompt = \"\"\"\n",
    "You are a biomedical research assistant. Given the article below, extract the following:\n",
    "\n",
    "1. Diseases mentioned\n",
    "2. Genes or Proteins discussed\n",
    "3. Biological Pathways referenced\n",
    "4. Experimental Methods used\n",
    "5. A 1–2 sentence summary of the article's key scientific finding\n",
    "\n",
    "### ARTICLE STARTS ###\n",
    "{article}\n",
    "### ARTICLE ENDS ###\n",
    "\n",
    "Respond in the following JSON format:\n",
    "\n",
    "{{\n",
    "  \"pubmed_id\": \"\",\n",
    "  \"diseases\": [...],\n",
    "  \"genes_proteins\": [...],\n",
    "  \"pathways\": [...],\n",
    "  \"methods\": [...],\n",
    "  \"summary\": \"\"\n",
    "}}\n",
    "\n",
    "Do not add any additional texts or explanation.\n",
    "\"\"\".strip()"
   ]
  },
  {
   "cell_type": "code",
   "execution_count": 25,
   "id": "05ca3f05",
   "metadata": {},
   "outputs": [
    {
     "data": {
      "text/plain": [
       "31"
      ]
     },
     "execution_count": 25,
     "metadata": {},
     "output_type": "execute_result"
    }
   ],
   "source": [
    "prompt_batched = [prompt.format(article = text) for text in text_list]\n",
    "len(prompt_batched)"
   ]
  },
  {
   "cell_type": "markdown",
   "id": "03c05e0b",
   "metadata": {},
   "source": [
    "### Loading LLM"
   ]
  },
  {
   "cell_type": "code",
   "execution_count": 16,
   "id": "c4639ad9",
   "metadata": {},
   "outputs": [],
   "source": [
    "from langchain_groq import ChatGroq\n",
    "from langchain.prompts import PromptTemplate\n",
    "from langchain.chains import LLMChain"
   ]
  },
  {
   "cell_type": "code",
   "execution_count": null,
   "id": "ad4c4272",
   "metadata": {},
   "outputs": [],
   "source": [
    "from dotenv import load_dotenv\n",
    "groq_api_key = os.getenv(\"GROQ_API_KEY\")"
   ]
  },
  {
   "cell_type": "code",
   "execution_count": 17,
   "id": "5f1d32c4",
   "metadata": {},
   "outputs": [],
   "source": [
    "llm = ChatGroq(\n",
    "    temperature = 0,\n",
    "    groq_api_key = groq_api_key,\n",
    "    model_name = \"llama-3.1-8b-instant\"\n",
    ")"
   ]
  },
  {
   "cell_type": "code",
   "execution_count": 30,
   "id": "54832da2",
   "metadata": {},
   "outputs": [],
   "source": [
    "res = llm.invoke(prompt_batched[0])"
   ]
  },
  {
   "cell_type": "code",
   "execution_count": 31,
   "id": "6ea8a0bf",
   "metadata": {},
   "outputs": [
    {
     "name": "stdout",
     "output_type": "stream",
     "text": [
      "You are a biomedical research assistant. Given the article below, extract the following:\n",
      "\n",
      "1. Diseases mentioned\n",
      "2. Genes or Proteins discussed\n",
      "3. Biological Pathways referenced\n",
      "4. Experimental Methods used\n",
      "5. A 1–2 sentence summary of the article's key scientific finding\n",
      "\n",
      "### ARTICLE STARTS ###\n",
      "PUBMED_ID :40207234\n",
      "Title :The distinctive signature of regulatory CD4 T cells committed in the human thymus.\n",
      "\n",
      "Abstract :\n",
      " Thymically committed regulatory CD4 T cells (tTregs) are essential for immune homeostasis and self- tolerance. We established the human tTreg Expression Signature by comparing genome-wide transcriptomic profiles between tTregs and their conventional counterparts (tTconvs). We further exploited the high sequencing depth of our bulk RNA-seq data to identify a subset of 250 genes significantly expressed in human tTregs and with neglectable expression in tTconvs, defined as below the levels of expression of <i>IL2RA</i>, that we named thymic Treg \"private\" genes. Notably, pathways related to cell motility, inflammation, and T-cell effector specification were overrepresented within the tTreg private genes. We found that 163 of these genes were significantly less expressed in circulating naïve and memory Tregs when compared to peripheral data generated in parallel. This result suggested a higher activity for most of the \"private\" genes in the thymus when compared to the peripheral compartments. Altogether, we provide a unique resource to inform future studies, such as for improving annotation in single-cell and spatial transcriptional data, or help in designing human studies to validate putative biomarkers for thymically committed Tregs, a priority in the field.\n",
      "### ARTICLE ENDS ###\n",
      "\n",
      "Respond in the following JSON format:\n",
      "\n",
      "{\n",
      "  \"pubmed_id\": \"\",\n",
      "  \"diseases\": [...],\n",
      "  \"genes_proteins\": [...],\n",
      "  \"pathways\": [...],\n",
      "  \"methods\": [...],\n",
      "  \"summary\": \"\"\n",
      "}\n",
      "\n",
      "Do not add any additional texts or explanation.\n"
     ]
    }
   ],
   "source": [
    "print(prompt_batched[0])"
   ]
  },
  {
   "cell_type": "code",
   "execution_count": 32,
   "id": "600e9aed",
   "metadata": {},
   "outputs": [
    {
     "name": "stdout",
     "output_type": "stream",
     "text": [
      "{\n",
      "  \"pubmed_id\": \"40207234\",\n",
      "  \"diseases\": [\"immune homeostasis\", \"self-tolerance\"],\n",
      "  \"genes_proteins\": [\"IL2RA\"],\n",
      "  \"pathways\": [\"cell motility\", \"inflammation\", \"T-cell effector specification\"],\n",
      "  \"methods\": [\"genome-wide transcriptomic profiles\", \"bulk RNA-seq data\"],\n",
      "  \"summary\": \"The study established a unique expression signature for regulatory CD4 T cells committed in the human thymus, identifying a subset of 'private' genes with higher activity in the thymus compared to peripheral compartments.\"\n",
      "}\n"
     ]
    }
   ],
   "source": [
    "print(res.content)"
   ]
  },
  {
   "cell_type": "code",
   "execution_count": 34,
   "id": "a5de12bb",
   "metadata": {},
   "outputs": [],
   "source": [
    "from time import time "
   ]
  },
  {
   "cell_type": "code",
   "execution_count": 35,
   "id": "f9c7b171",
   "metadata": {},
   "outputs": [
    {
     "name": "stdout",
     "output_type": "stream",
     "text": [
      "Length of output: 31, Time Taken : 175.707022190094 seconds\n"
     ]
    }
   ],
   "source": [
    "li_out = []\n",
    "start_time = time()\n",
    "for p in prompt_batched:\n",
    "    out = llm.invoke(p)\n",
    "    if isinstance(out.content,str):\n",
    "        output = literal_eval(out.content)\n",
    "        \n",
    "    li_out.append(output)\n",
    "end_time = time()   \n",
    "print(f\"Length of output: {len(li_out)}, Time Taken : {end_time - start_time} seconds\")"
   ]
  },
  {
   "cell_type": "code",
   "execution_count": 38,
   "id": "e6aaf74a",
   "metadata": {},
   "outputs": [
    {
     "data": {
      "text/plain": [
       "[{'pubmed_id': '40207234',\n",
       "  'diseases': ['immune homeostasis', 'self-tolerance'],\n",
       "  'genes_proteins': ['IL2RA'],\n",
       "  'pathways': ['cell motility',\n",
       "   'inflammation',\n",
       "   'T-cell effector specification'],\n",
       "  'methods': ['genome-wide transcriptomic profiles', 'bulk RNA-seq data'],\n",
       "  'summary': \"The study established a unique expression signature for regulatory CD4 T cells committed in the human thymus, identifying a subset of 'private' genes with higher activity in the thymus compared to peripheral compartments.\"},\n",
       " {'pubmed_id': '40223063',\n",
       "  'diseases': ['Acute Myeloid Leukemia (AML)'],\n",
       "  'genes_proteins': ['FGFBP2',\n",
       "   'GZMB',\n",
       "   'GZMH',\n",
       "   'IKZF3',\n",
       "   'IL2RB',\n",
       "   'KLRB1',\n",
       "   'KLRC2',\n",
       "   'RHOF',\n",
       "   'RUNX3',\n",
       "   'STAT4'],\n",
       "  'pathways': ['Immune microenvironment', 'NKT cell pathway'],\n",
       "  'methods': ['Single-sample gene set enrichment analysis (ssGSEA)',\n",
       "   'Weighted gene co-expression network analysis (WGCNA)',\n",
       "   'Cox Lasso regression model',\n",
       "   'Cox random forest',\n",
       "   'Kaplan-Meier survival analyses',\n",
       "   'RT-qPCR',\n",
       "   'Western blot',\n",
       "   'Flow cytometry'],\n",
       "  'summary': 'This study identified key prognostic genes in Acute Myeloid Leukemia (AML) and highlighted the critical role of NKT cells in AML pathogenesis, providing new insights and potential biomarkers for understanding AML biology, prognosis, and therapeutic targets.'},\n",
       " {'pubmed_id': '40202825',\n",
       "  'diseases': ['cancer'],\n",
       "  'genes_proteins': ['CRISPR activation technology',\n",
       "   'glucose and fatty acid consumption',\n",
       "   'glycolysis and fatty acid oxidation'],\n",
       "  'pathways': ['cancer cell metabolism',\n",
       "   'angiogenesis',\n",
       "   'metabolic gene expression'],\n",
       "  'methods': ['CRISPR activation technology',\n",
       "   'in vitro',\n",
       "   'implantation of engineered adipose organoids',\n",
       "   'xenograft models',\n",
       "   'autologous fat transplantation'],\n",
       "  'summary': 'Researchers developed Adipose-Modified Therapy (AMT), a strategy that genetically reprograms white adipocytes to outcompete tumors for key nutrients, inhibiting cancer cell proliferation and tumor growth.'}]"
      ]
     },
     "execution_count": 38,
     "metadata": {},
     "output_type": "execute_result"
    }
   ],
   "source": [
    "li_out[:3]"
   ]
  },
  {
   "cell_type": "code",
   "execution_count": 39,
   "id": "d5a9795f",
   "metadata": {},
   "outputs": [],
   "source": [
    "df_insights = pd.DataFrame(li_out)"
   ]
  },
  {
   "cell_type": "code",
   "execution_count": 41,
   "id": "5d89abd9",
   "metadata": {},
   "outputs": [
    {
     "data": {
      "text/plain": [
       "(31, 6)"
      ]
     },
     "execution_count": 41,
     "metadata": {},
     "output_type": "execute_result"
    }
   ],
   "source": [
    "df_insights.shape"
   ]
  },
  {
   "cell_type": "code",
   "execution_count": 42,
   "id": "d9cc0dbe",
   "metadata": {},
   "outputs": [
    {
     "data": {
      "text/html": [
       "<div>\n",
       "<style scoped>\n",
       "    .dataframe tbody tr th:only-of-type {\n",
       "        vertical-align: middle;\n",
       "    }\n",
       "\n",
       "    .dataframe tbody tr th {\n",
       "        vertical-align: top;\n",
       "    }\n",
       "\n",
       "    .dataframe thead th {\n",
       "        text-align: right;\n",
       "    }\n",
       "</style>\n",
       "<table border=\"1\" class=\"dataframe\">\n",
       "  <thead>\n",
       "    <tr style=\"text-align: right;\">\n",
       "      <th></th>\n",
       "      <th>pubmed_id</th>\n",
       "      <th>diseases</th>\n",
       "      <th>genes_proteins</th>\n",
       "      <th>pathways</th>\n",
       "      <th>methods</th>\n",
       "      <th>summary</th>\n",
       "    </tr>\n",
       "  </thead>\n",
       "  <tbody>\n",
       "    <tr>\n",
       "      <th>16</th>\n",
       "      <td>40166174</td>\n",
       "      <td>[Hematopoietic disorders, Acute myeloid leukemia (AML)]</td>\n",
       "      <td>[]</td>\n",
       "      <td>[]</td>\n",
       "      <td>[Digital PCR, Genome sequencing, Single-cell RNA-sequencing (scRNA-Seq), FACS-based isolation, Semi-permeable capsules (SPCs)]</td>\n",
       "      <td>The article presents a versatile technology using semi-permeable capsules for high-throughput single-cell -omics assays, demonstrating its application in uncovering changes in transcriptomes assoc...</td>\n",
       "    </tr>\n",
       "    <tr>\n",
       "      <th>10</th>\n",
       "      <td>39908652</td>\n",
       "      <td>[Neuroblastoma]</td>\n",
       "      <td>[Midkine (MDK), Macrophage Migration Inhibitory Factor (MIF), GPC2, B7-H3]</td>\n",
       "      <td>[Immunosuppressive tumor microenvironments (TME)]</td>\n",
       "      <td>[Single-cell RNA sequencing (scRNA-seq), Bulk-RNA sequencing, Mass-spectrometry, PROTAC technology, In vitro and in vivo functional assays]</td>\n",
       "      <td>Blocking MIF secretion enhances CAR T-cell efficacy against neuroblastoma by significantly improving activation of CAR T-cells.</td>\n",
       "    </tr>\n",
       "  </tbody>\n",
       "</table>\n",
       "</div>"
      ],
      "text/plain": [
       "   pubmed_id                                                 diseases  \\\n",
       "16  40166174  [Hematopoietic disorders, Acute myeloid leukemia (AML)]   \n",
       "10  39908652                                          [Neuroblastoma]   \n",
       "\n",
       "                                                                genes_proteins  \\\n",
       "16                                                                          []   \n",
       "10  [Midkine (MDK), Macrophage Migration Inhibitory Factor (MIF), GPC2, B7-H3]   \n",
       "\n",
       "                                             pathways  \\\n",
       "16                                                 []   \n",
       "10  [Immunosuppressive tumor microenvironments (TME)]   \n",
       "\n",
       "                                                                                                                                        methods  \\\n",
       "16               [Digital PCR, Genome sequencing, Single-cell RNA-sequencing (scRNA-Seq), FACS-based isolation, Semi-permeable capsules (SPCs)]   \n",
       "10  [Single-cell RNA sequencing (scRNA-seq), Bulk-RNA sequencing, Mass-spectrometry, PROTAC technology, In vitro and in vivo functional assays]   \n",
       "\n",
       "                                                                                                                                                                                                    summary  \n",
       "16  The article presents a versatile technology using semi-permeable capsules for high-throughput single-cell -omics assays, demonstrating its application in uncovering changes in transcriptomes assoc...  \n",
       "10                                                                          Blocking MIF secretion enhances CAR T-cell efficacy against neuroblastoma by significantly improving activation of CAR T-cells.  "
      ]
     },
     "execution_count": 42,
     "metadata": {},
     "output_type": "execute_result"
    }
   ],
   "source": [
    "df_insights.sample(2)"
   ]
  },
  {
   "cell_type": "code",
   "execution_count": 44,
   "id": "4c32a871",
   "metadata": {},
   "outputs": [
    {
     "data": {
      "text/plain": [
       "(31, 31)"
      ]
     },
     "execution_count": 44,
     "metadata": {},
     "output_type": "execute_result"
    }
   ],
   "source": [
    "df_insights.pubmed_id.nunique(),df_filtered.pubmed_id.nunique()"
   ]
  },
  {
   "cell_type": "markdown",
   "id": "f809a3ea",
   "metadata": {},
   "source": [
    "### Merge filtered df with insights to create a metadata file"
   ]
  },
  {
   "cell_type": "code",
   "execution_count": 49,
   "id": "3340e20e",
   "metadata": {},
   "outputs": [
    {
     "data": {
      "text/plain": [
       "(numpy.int64, str)"
      ]
     },
     "execution_count": 49,
     "metadata": {},
     "output_type": "execute_result"
    }
   ],
   "source": [
    "type(df_filtered[\"pubmed_id\"][0]),type(df_insights[\"pubmed_id\"][0]),"
   ]
  },
  {
   "cell_type": "code",
   "execution_count": 50,
   "id": "50a1cf22",
   "metadata": {},
   "outputs": [],
   "source": [
    "df_filtered[\"pubmed_id\"] = df_filtered[\"pubmed_id\"].apply(str)"
   ]
  },
  {
   "cell_type": "code",
   "execution_count": 51,
   "id": "a289d778",
   "metadata": {},
   "outputs": [],
   "source": [
    "df_insights_meta = pd.merge(df_filtered,df_insights,on='pubmed_id', how = \"inner\")"
   ]
  },
  {
   "cell_type": "code",
   "execution_count": 54,
   "id": "a8d4020f",
   "metadata": {},
   "outputs": [
    {
     "data": {
      "text/plain": [
       "(31, 12)"
      ]
     },
     "execution_count": 54,
     "metadata": {},
     "output_type": "execute_result"
    }
   ],
   "source": [
    "df_insights_meta.shape"
   ]
  },
  {
   "cell_type": "code",
   "execution_count": 55,
   "id": "857ad652",
   "metadata": {},
   "outputs": [
    {
     "data": {
      "text/plain": [
       "pubmed_id         0\n",
       "title             0\n",
       "journal           0\n",
       "keywords          0\n",
       "abstract          0\n",
       "llm_class         0\n",
       "full_text         0\n",
       "diseases          0\n",
       "genes_proteins    0\n",
       "pathways          0\n",
       "methods           0\n",
       "summary           0\n",
       "dtype: int64"
      ]
     },
     "execution_count": 55,
     "metadata": {},
     "output_type": "execute_result"
    }
   ],
   "source": [
    "df_insights_meta.isna().sum()"
   ]
  },
  {
   "cell_type": "code",
   "execution_count": 56,
   "id": "71ef4658",
   "metadata": {},
   "outputs": [],
   "source": [
    "df_insights_meta.to_csv(\"../outputs/insights_meta.csv\", index = False)\n",
    "df_insights.to_csv(\"../outputs/insights.csv\", index = False)"
   ]
  },
  {
   "cell_type": "code",
   "execution_count": 57,
   "id": "9b87eaca",
   "metadata": {},
   "outputs": [],
   "source": [
    "df_insights.to_json(\"../outputs/extracted_insights.json\", orient= \"records\")"
   ]
  },
  {
   "cell_type": "code",
   "execution_count": 59,
   "id": "b2f339e9",
   "metadata": {},
   "outputs": [],
   "source": [
    "with open(\"../outputs/extracted_insights.json\",'r') as f:\n",
    "    data = json.load(f)"
   ]
  },
  {
   "cell_type": "code",
   "execution_count": 61,
   "id": "988718d2",
   "metadata": {},
   "outputs": [
    {
     "data": {
      "text/plain": [
       "[{'pubmed_id': '40207234',\n",
       "  'diseases': ['immune homeostasis', 'self-tolerance'],\n",
       "  'genes_proteins': ['IL2RA'],\n",
       "  'pathways': ['cell motility',\n",
       "   'inflammation',\n",
       "   'T-cell effector specification'],\n",
       "  'methods': ['genome-wide transcriptomic profiles', 'bulk RNA-seq data'],\n",
       "  'summary': \"The study established a unique expression signature for regulatory CD4 T cells committed in the human thymus, identifying a subset of 'private' genes with higher activity in the thymus compared to peripheral compartments.\"},\n",
       " {'pubmed_id': '40223063',\n",
       "  'diseases': ['Acute Myeloid Leukemia (AML)'],\n",
       "  'genes_proteins': ['FGFBP2',\n",
       "   'GZMB',\n",
       "   'GZMH',\n",
       "   'IKZF3',\n",
       "   'IL2RB',\n",
       "   'KLRB1',\n",
       "   'KLRC2',\n",
       "   'RHOF',\n",
       "   'RUNX3',\n",
       "   'STAT4'],\n",
       "  'pathways': ['Immune microenvironment', 'NKT cell pathway'],\n",
       "  'methods': ['Single-sample gene set enrichment analysis (ssGSEA)',\n",
       "   'Weighted gene co-expression network analysis (WGCNA)',\n",
       "   'Cox Lasso regression model',\n",
       "   'Cox random forest',\n",
       "   'Kaplan-Meier survival analyses',\n",
       "   'RT-qPCR',\n",
       "   'Western blot',\n",
       "   'Flow cytometry'],\n",
       "  'summary': 'This study identified key prognostic genes in Acute Myeloid Leukemia (AML) and highlighted the critical role of NKT cells in AML pathogenesis, providing new insights and potential biomarkers for understanding AML biology, prognosis, and therapeutic targets.'},\n",
       " {'pubmed_id': '40202825',\n",
       "  'diseases': ['cancer'],\n",
       "  'genes_proteins': ['CRISPR activation technology',\n",
       "   'glucose and fatty acid consumption',\n",
       "   'glycolysis and fatty acid oxidation'],\n",
       "  'pathways': ['cancer cell metabolism',\n",
       "   'angiogenesis',\n",
       "   'metabolic gene expression'],\n",
       "  'methods': ['CRISPR activation technology',\n",
       "   'in vitro',\n",
       "   'implantation of engineered adipose organoids',\n",
       "   'xenograft models',\n",
       "   'autologous fat transplantation'],\n",
       "  'summary': 'Researchers developed Adipose-Modified Therapy (AMT), a strategy that genetically reprograms white adipocytes to outcompete tumors for key nutrients, inhibiting cancer cell proliferation and tumor growth.'}]"
      ]
     },
     "execution_count": 61,
     "metadata": {},
     "output_type": "execute_result"
    }
   ],
   "source": [
    "data[:3]"
   ]
  },
  {
   "cell_type": "code",
   "execution_count": 62,
   "id": "004c681c",
   "metadata": {},
   "outputs": [
    {
     "data": {
      "text/html": [
       "<div>\n",
       "<style scoped>\n",
       "    .dataframe tbody tr th:only-of-type {\n",
       "        vertical-align: middle;\n",
       "    }\n",
       "\n",
       "    .dataframe tbody tr th {\n",
       "        vertical-align: top;\n",
       "    }\n",
       "\n",
       "    .dataframe thead th {\n",
       "        text-align: right;\n",
       "    }\n",
       "</style>\n",
       "<table border=\"1\" class=\"dataframe\">\n",
       "  <thead>\n",
       "    <tr style=\"text-align: right;\">\n",
       "      <th></th>\n",
       "      <th>pubmed_id</th>\n",
       "      <th>title</th>\n",
       "      <th>journal</th>\n",
       "      <th>keywords</th>\n",
       "      <th>abstract</th>\n",
       "      <th>llm_class</th>\n",
       "      <th>full_text</th>\n",
       "      <th>diseases</th>\n",
       "      <th>genes_proteins</th>\n",
       "      <th>pathways</th>\n",
       "      <th>methods</th>\n",
       "      <th>summary</th>\n",
       "    </tr>\n",
       "  </thead>\n",
       "  <tbody>\n",
       "    <tr>\n",
       "      <th>1</th>\n",
       "      <td>40223063</td>\n",
       "      <td>Prognostic value of natural killer T cell related genes in acute myeloid leukemia.</td>\n",
       "      <td>Cancer cell international (Cancer Cell Int)</td>\n",
       "      <td>Acute myeloid leukemia, NKT cell, Prognosis, WGCNA</td>\n",
       "      <td>Acute myeloid leukemia (AML) is a hematological malignancy characterized by complex immune microenvironment. This study aims to identify immune-related prognostic biomarkers in AML.  Multiple pub...</td>\n",
       "      <td>relevant</td>\n",
       "      <td>PUBMED_ID :40223063\\nTitle :Prognostic value of natural killer T cell related genes in acute myeloid leukemia.\\n\\nAbstract :\\n Acute myeloid leukemia (AML) is a hematological malignancy characteri...</td>\n",
       "      <td>[Acute Myeloid Leukemia (AML)]</td>\n",
       "      <td>[FGFBP2, GZMB, GZMH, IKZF3, IL2RB, KLRB1, KLRC2, RHOF, RUNX3, STAT4]</td>\n",
       "      <td>[Immune microenvironment, NKT cell pathway]</td>\n",
       "      <td>[Single-sample gene set enrichment analysis (ssGSEA), Weighted gene co-expression network analysis (WGCNA), Cox Lasso regression model, Cox random forest, Kaplan-Meier survival analyses, RT-qPCR, ...</td>\n",
       "      <td>This study identified key prognostic genes in Acute Myeloid Leukemia (AML) and highlighted the critical role of NKT cells in AML pathogenesis, providing new insights and potential biomarkers for u...</td>\n",
       "    </tr>\n",
       "  </tbody>\n",
       "</table>\n",
       "</div>"
      ],
      "text/plain": [
       "  pubmed_id  \\\n",
       "1  40223063   \n",
       "\n",
       "                                                                                title  \\\n",
       "1  Prognostic value of natural killer T cell related genes in acute myeloid leukemia.   \n",
       "\n",
       "                                       journal  \\\n",
       "1  Cancer cell international (Cancer Cell Int)   \n",
       "\n",
       "                                             keywords  \\\n",
       "1  Acute myeloid leukemia, NKT cell, Prognosis, WGCNA   \n",
       "\n",
       "                                                                                                                                                                                                  abstract  \\\n",
       "1   Acute myeloid leukemia (AML) is a hematological malignancy characterized by complex immune microenvironment. This study aims to identify immune-related prognostic biomarkers in AML.  Multiple pub...   \n",
       "\n",
       "  llm_class  \\\n",
       "1  relevant   \n",
       "\n",
       "                                                                                                                                                                                                 full_text  \\\n",
       "1  PUBMED_ID :40223063\\nTitle :Prognostic value of natural killer T cell related genes in acute myeloid leukemia.\\n\\nAbstract :\\n Acute myeloid leukemia (AML) is a hematological malignancy characteri...   \n",
       "\n",
       "                         diseases  \\\n",
       "1  [Acute Myeloid Leukemia (AML)]   \n",
       "\n",
       "                                                         genes_proteins  \\\n",
       "1  [FGFBP2, GZMB, GZMH, IKZF3, IL2RB, KLRB1, KLRC2, RHOF, RUNX3, STAT4]   \n",
       "\n",
       "                                      pathways  \\\n",
       "1  [Immune microenvironment, NKT cell pathway]   \n",
       "\n",
       "                                                                                                                                                                                                   methods  \\\n",
       "1  [Single-sample gene set enrichment analysis (ssGSEA), Weighted gene co-expression network analysis (WGCNA), Cox Lasso regression model, Cox random forest, Kaplan-Meier survival analyses, RT-qPCR, ...   \n",
       "\n",
       "                                                                                                                                                                                                   summary  \n",
       "1  This study identified key prognostic genes in Acute Myeloid Leukemia (AML) and highlighted the critical role of NKT cells in AML pathogenesis, providing new insights and potential biomarkers for u...  "
      ]
     },
     "execution_count": 62,
     "metadata": {},
     "output_type": "execute_result"
    }
   ],
   "source": [
    "df_insights_meta[df_insights_meta[\"pubmed_id\"] == '40223063']"
   ]
  },
  {
   "cell_type": "code",
   "execution_count": null,
   "id": "017a149a",
   "metadata": {},
   "outputs": [],
   "source": []
  },
  {
   "cell_type": "code",
   "execution_count": null,
   "id": "be0b2d77",
   "metadata": {},
   "outputs": [],
   "source": []
  }
 ],
 "metadata": {
  "kernelspec": {
   "display_name": "Python 3 (ipykernel)",
   "language": "python",
   "name": "python3"
  },
  "language_info": {
   "codemirror_mode": {
    "name": "ipython",
    "version": 3
   },
   "file_extension": ".py",
   "mimetype": "text/x-python",
   "name": "python",
   "nbconvert_exporter": "python",
   "pygments_lexer": "ipython3",
   "version": "3.11.5"
  }
 },
 "nbformat": 4,
 "nbformat_minor": 5
}
