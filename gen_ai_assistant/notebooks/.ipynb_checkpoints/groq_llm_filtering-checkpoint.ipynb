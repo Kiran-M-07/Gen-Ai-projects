{
 "cells": [
  {
   "cell_type": "code",
   "execution_count": 25,
   "id": "06863329",
   "metadata": {},
   "outputs": [],
   "source": [
    "import pandas as pd \n",
    "import re \n",
    "import numpy as np \n",
    "import json\n",
    "from ast import literal_eval\n",
    "pd.set_option('display.max_colwidth', 200)\n",
    "from time import time"
   ]
  },
  {
   "cell_type": "code",
   "execution_count": 10,
   "id": "577a5d8b",
   "metadata": {},
   "outputs": [],
   "source": [
    "from langchain_groq import ChatGroq\n",
    "from langchain_core.prompts import PromptTemplate"
   ]
  },
  {
   "cell_type": "code",
   "execution_count": 2,
   "id": "e47d14ce",
   "metadata": {},
   "outputs": [
    {
     "data": {
      "text/plain": [
       "(50, 5)"
      ]
     },
     "execution_count": 2,
     "metadata": {},
     "output_type": "execute_result"
    }
   ],
   "source": [
    "df_parsed = pd.read_csv(\"../outputs/parsed_md_files.csv\")\n",
    "df_parsed.shape"
   ]
  },
  {
   "cell_type": "code",
   "execution_count": 4,
   "id": "9a6f6cc1",
   "metadata": {},
   "outputs": [
    {
     "data": {
      "text/html": [
       "<div>\n",
       "<style scoped>\n",
       "    .dataframe tbody tr th:only-of-type {\n",
       "        vertical-align: middle;\n",
       "    }\n",
       "\n",
       "    .dataframe tbody tr th {\n",
       "        vertical-align: top;\n",
       "    }\n",
       "\n",
       "    .dataframe thead th {\n",
       "        text-align: right;\n",
       "    }\n",
       "</style>\n",
       "<table border=\"1\" class=\"dataframe\">\n",
       "  <thead>\n",
       "    <tr style=\"text-align: right;\">\n",
       "      <th></th>\n",
       "      <th>pubmed_id</th>\n",
       "      <th>title</th>\n",
       "      <th>journal</th>\n",
       "      <th>keywords</th>\n",
       "      <th>abstract</th>\n",
       "    </tr>\n",
       "  </thead>\n",
       "  <tbody>\n",
       "    <tr>\n",
       "      <th>46</th>\n",
       "      <td>40095971</td>\n",
       "      <td>Electroporation-Based CRISPR-Cas9-Mediated Gene Knockout in THP-1 Cells and Single-Cell Clone Isolation.</td>\n",
       "      <td>Journal of visualized experiments : JoVE (J Vis Exp)</td>\n",
       "      <td>NaN</td>\n",
       "      <td>The human acute monocytic leukemia (AML) THP-1 cell line is widely used as a model to study the functions of human monocyte-derived macrophages, including their interplay with significant human p...</td>\n",
       "    </tr>\n",
       "    <tr>\n",
       "      <th>14</th>\n",
       "      <td>40201592</td>\n",
       "      <td>Modulation of cell fate by shock wave therapy in ischaemic heart disease.</td>\n",
       "      <td>European heart journal open (Eur Heart J Open)</td>\n",
       "      <td>Cardiac surgery, Heart regeneration, Shockwave therapy, Therapeutic transdifferentiation</td>\n",
       "      <td>Cardiac shockwave therapy (SWT) improves left ventricular (LV) function in patients with ischaemic cardiomyopathy. Shockwave therapy activates Toll-like receptor 3 (TLR3), a receptor-inducing chr...</td>\n",
       "    </tr>\n",
       "    <tr>\n",
       "      <th>38</th>\n",
       "      <td>40214805</td>\n",
       "      <td>The effect of TIGIT and PD1 expression on T cell function and prognosis in adult patients with acute myeloid leukemia at diagnosis.</td>\n",
       "      <td>Cancer immunology, immunotherapy : CII (Cancer Immunol Immunother)</td>\n",
       "      <td>Newly-diagnosed acute myeloid leukemia, PD1, Relapse-free survival, TIGIT, scRNA-seq</td>\n",
       "      <td>T cell immunoreceptor with immunoglobulin and ITIM domain (TIGIT) is a recently-identified immune checkpoint molecule, and no study ever explores the prognostic significance of TIGIT on bone marr...</td>\n",
       "    </tr>\n",
       "    <tr>\n",
       "      <th>20</th>\n",
       "      <td>40186195</td>\n",
       "      <td>CXCL12/CXCR4 axis mediates CD8 &lt;sup&gt;+&lt;/sup&gt; T cell overactivation in the progression of viral myocarditis.</td>\n",
       "      <td>Journal of translational medicine (J Transl Med)</td>\n",
       "      <td>CD8+T cell, CXCR4, Myocarditis, Single-cell RNA sequencing</td>\n",
       "      <td>Myocarditis is a common inflammatory heart disease in children and young adults, with fulminant myocarditis (FM) being the most severe form due to its rapid onset and high mortality rate. However...</td>\n",
       "    </tr>\n",
       "  </tbody>\n",
       "</table>\n",
       "</div>"
      ],
      "text/plain": [
       "    pubmed_id  \\\n",
       "46   40095971   \n",
       "14   40201592   \n",
       "38   40214805   \n",
       "20   40186195   \n",
       "\n",
       "                                                                                                                                  title  \\\n",
       "46                             Electroporation-Based CRISPR-Cas9-Mediated Gene Knockout in THP-1 Cells and Single-Cell Clone Isolation.   \n",
       "14                                                            Modulation of cell fate by shock wave therapy in ischaemic heart disease.   \n",
       "38  The effect of TIGIT and PD1 expression on T cell function and prognosis in adult patients with acute myeloid leukemia at diagnosis.   \n",
       "20                           CXCL12/CXCR4 axis mediates CD8 <sup>+</sup> T cell overactivation in the progression of viral myocarditis.   \n",
       "\n",
       "                                                               journal  \\\n",
       "46                Journal of visualized experiments : JoVE (J Vis Exp)   \n",
       "14                      European heart journal open (Eur Heart J Open)   \n",
       "38  Cancer immunology, immunotherapy : CII (Cancer Immunol Immunother)   \n",
       "20                    Journal of translational medicine (J Transl Med)   \n",
       "\n",
       "                                                                                    keywords  \\\n",
       "46                                                                                       NaN   \n",
       "14  Cardiac surgery, Heart regeneration, Shockwave therapy, Therapeutic transdifferentiation   \n",
       "38      Newly-diagnosed acute myeloid leukemia, PD1, Relapse-free survival, TIGIT, scRNA-seq   \n",
       "20                                CD8+T cell, CXCR4, Myocarditis, Single-cell RNA sequencing   \n",
       "\n",
       "                                                                                                                                                                                                   abstract  \n",
       "46   The human acute monocytic leukemia (AML) THP-1 cell line is widely used as a model to study the functions of human monocyte-derived macrophages, including their interplay with significant human p...  \n",
       "14   Cardiac shockwave therapy (SWT) improves left ventricular (LV) function in patients with ischaemic cardiomyopathy. Shockwave therapy activates Toll-like receptor 3 (TLR3), a receptor-inducing chr...  \n",
       "38   T cell immunoreceptor with immunoglobulin and ITIM domain (TIGIT) is a recently-identified immune checkpoint molecule, and no study ever explores the prognostic significance of TIGIT on bone marr...  \n",
       "20   Myocarditis is a common inflammatory heart disease in children and young adults, with fulminant myocarditis (FM) being the most severe form due to its rapid onset and high mortality rate. However...  "
      ]
     },
     "execution_count": 4,
     "metadata": {},
     "output_type": "execute_result"
    }
   ],
   "source": [
    "df_parsed.sample(4)"
   ]
  },
  {
   "cell_type": "code",
   "execution_count": 13,
   "id": "509b17c9",
   "metadata": {},
   "outputs": [],
   "source": [
    "llm = ChatGroq(\n",
    "    temperature = 0,\n",
    "    groq_api_key = \"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\",\n",
    "    model_name = \"llama-3.1-8b-instant\"\n",
    ")"
   ]
  },
  {
   "cell_type": "code",
   "execution_count": 11,
   "id": "65652513",
   "metadata": {},
   "outputs": [],
   "source": [
    "prompt = \"\"\"\n",
    "you are a classification assistant that reads an article and classifies if it as relevant \"cancer\" or \"immunology\" related articles.\n",
    "\n",
    "Classify the below paragraph as \"relevant\" if it is related to cancer or immunology, otherwise classify it as \"irrelevant\".\n",
    "## Paragraph: \n",
    "{paragraph}\n",
    "\n",
    "Return the output  as a json like {{\"class\":\" \"}}.\n",
    "\"\"\".strip()"
   ]
  },
  {
   "cell_type": "code",
   "execution_count": 12,
   "id": "72e4c7fb",
   "metadata": {},
   "outputs": [
    {
     "data": {
      "text/plain": [
       "50"
      ]
     },
     "execution_count": 12,
     "metadata": {},
     "output_type": "execute_result"
    }
   ],
   "source": [
    "abstracts = df_parsed.abstract.tolist()\n",
    "len(abstracts)"
   ]
  },
  {
   "cell_type": "code",
   "execution_count": 14,
   "id": "a0a69f96",
   "metadata": {},
   "outputs": [],
   "source": [
    "prompt_batched = [prompt.format(paragraph = text) for text in abstracts]"
   ]
  },
  {
   "cell_type": "code",
   "execution_count": 26,
   "id": "5fdc93f3",
   "metadata": {},
   "outputs": [
    {
     "name": "stdout",
     "output_type": "stream",
     "text": [
      "Time_taken : 185.9268500804901\n"
     ]
    }
   ],
   "source": [
    "li_out = []\n",
    "start_time = time()\n",
    "for p in prompt_batched:\n",
    "    out = llm.invoke(p)\n",
    "    output = literal_eval(out.content)\n",
    "    li_out.append(output)\n",
    "\n",
    "end_time = time()\n",
    "print(f\"Time_taken : {end_time - start_time}\")"
   ]
  },
  {
   "cell_type": "code",
   "execution_count": 27,
   "id": "10bf53f6",
   "metadata": {},
   "outputs": [
    {
     "data": {
      "text/plain": [
       "50"
      ]
     },
     "execution_count": 27,
     "metadata": {},
     "output_type": "execute_result"
    }
   ],
   "source": [
    "len(li_out)"
   ]
  },
  {
   "cell_type": "code",
   "execution_count": 31,
   "id": "8056b2af",
   "metadata": {},
   "outputs": [],
   "source": [
    "cls = []\n",
    "for item in li_out:\n",
    "    if isinstance(item,str):\n",
    "        item = literal_eval(item)\n",
    "        \n",
    "    cls.append(item['class'])"
   ]
  },
  {
   "cell_type": "code",
   "execution_count": 33,
   "id": "99e89037",
   "metadata": {},
   "outputs": [
    {
     "data": {
      "text/plain": [
       "50"
      ]
     },
     "execution_count": 33,
     "metadata": {},
     "output_type": "execute_result"
    }
   ],
   "source": [
    "len(cls)"
   ]
  },
  {
   "cell_type": "code",
   "execution_count": 34,
   "id": "43216653",
   "metadata": {},
   "outputs": [],
   "source": [
    "df_parsed[\"llm_class\"] = cls"
   ]
  },
  {
   "cell_type": "code",
   "execution_count": 37,
   "id": "bc5ad433",
   "metadata": {},
   "outputs": [
    {
     "data": {
      "text/plain": [
       "31"
      ]
     },
     "execution_count": 37,
     "metadata": {},
     "output_type": "execute_result"
    }
   ],
   "source": [
    "df_parsed[df_parsed.llm_class == \"relevant\"].shape[0]"
   ]
  },
  {
   "cell_type": "code",
   "execution_count": 39,
   "id": "68e323f1",
   "metadata": {},
   "outputs": [
    {
     "data": {
      "text/html": [
       "<div>\n",
       "<style scoped>\n",
       "    .dataframe tbody tr th:only-of-type {\n",
       "        vertical-align: middle;\n",
       "    }\n",
       "\n",
       "    .dataframe tbody tr th {\n",
       "        vertical-align: top;\n",
       "    }\n",
       "\n",
       "    .dataframe thead th {\n",
       "        text-align: right;\n",
       "    }\n",
       "</style>\n",
       "<table border=\"1\" class=\"dataframe\">\n",
       "  <thead>\n",
       "    <tr style=\"text-align: right;\">\n",
       "      <th></th>\n",
       "      <th>pubmed_id</th>\n",
       "      <th>title</th>\n",
       "      <th>journal</th>\n",
       "      <th>keywords</th>\n",
       "      <th>abstract</th>\n",
       "      <th>llm_class</th>\n",
       "    </tr>\n",
       "  </thead>\n",
       "  <tbody>\n",
       "    <tr>\n",
       "      <th>35</th>\n",
       "      <td>40121237</td>\n",
       "      <td>MCL‑1 safeguards activated hair follicle stem cells to enable adult hair regeneration.</td>\n",
       "      <td>Nature communications (Nat Commun)</td>\n",
       "      <td>NaN</td>\n",
       "      <td>Hair follicles cycle through expansion, regression and quiescence. To investigate the role of MCL‑1, a BCL‑2 family protein with anti‑apoptotic and apoptosis‑unrelated functions, we delete Mcl‑1 ...</td>\n",
       "      <td>relevant</td>\n",
       "    </tr>\n",
       "    <tr>\n",
       "      <th>36</th>\n",
       "      <td>40240239</td>\n",
       "      <td>Cystic Fibrosis-related neurodegenerative disease associated with tauopathy and cognitive decline in aged CF mice.</td>\n",
       "      <td>Journal of cystic fibrosis : official journal of the European Cystic Fibrosis Society (J Cyst Fibros)</td>\n",
       "      <td>Cognition, Cystic fibrosis, Dementia, Tauopathy</td>\n",
       "      <td>Highly effective modulator therapies (HEMT) are increasing the lifespan for many people with cystic fibrosis (pwCF), making it necessary to identify and understand CF specific age-related consequ...</td>\n",
       "      <td>irrelevant</td>\n",
       "    </tr>\n",
       "    <tr>\n",
       "      <th>11</th>\n",
       "      <td>40240564</td>\n",
       "      <td>Characterization and genome analysis of the novel virulent Burkholderia phage Bm1, which is active against pan-drug-resistant Burkholderia multivorans.</td>\n",
       "      <td>Archives of virology (Arch Virol)</td>\n",
       "      <td>NaN</td>\n",
       "      <td>The escalating challenges of antibiotic resistance in bacterial pathogens have necessitated the exploration of alternative therapeutic strategies. Among these, bacteriophage therapy has regained ...</td>\n",
       "      <td>irrelevant</td>\n",
       "    </tr>\n",
       "    <tr>\n",
       "      <th>10</th>\n",
       "      <td>40230848</td>\n",
       "      <td>The role of transketolase in the immunotherapy and prognosis of hepatocellular carcinoma: a multi-omics approach.</td>\n",
       "      <td>Frontiers in immunology (Front Immunol)</td>\n",
       "      <td>Hep-G2, TKT, hepatocellular carcinoma, pentose phosphate pathway, transketolase</td>\n",
       "      <td>To explore the role of transketolase (TKT) in the immunotherapy and prognosis of hepatocellular carcinoma (HCC).  TKT expression across various cancers and its associations with tumor immunity an...</td>\n",
       "      <td>relevant</td>\n",
       "    </tr>\n",
       "    <tr>\n",
       "      <th>3</th>\n",
       "      <td>40202825</td>\n",
       "      <td>From Fat Providers to Cancer Therapy: Adipocytes as Unexpected Allies.</td>\n",
       "      <td>Cancer research (Cancer Res)</td>\n",
       "      <td>NaN</td>\n",
       "      <td>Adipocytes from white adipose tissue support cancer progression by supplying fatty acids to tumor cells while cold-activated brown adipose tissue has been shown to inhibit tumor growth by disrupt...</td>\n",
       "      <td>relevant</td>\n",
       "    </tr>\n",
       "    <tr>\n",
       "      <th>0</th>\n",
       "      <td>40207234</td>\n",
       "      <td>The distinctive signature of regulatory CD4 T cells committed in the human thymus.</td>\n",
       "      <td>Frontiers in immunology (Front Immunol)</td>\n",
       "      <td>CD4 T cells, FOXP3, RNA-seq, human T-cell development, human thymus, regulatory T cells</td>\n",
       "      <td>Thymically committed regulatory CD4 T cells (tTregs) are essential for immune homeostasis and self- tolerance. We established the human tTreg Expression Signature by comparing genome-wide transcr...</td>\n",
       "      <td>relevant</td>\n",
       "    </tr>\n",
       "    <tr>\n",
       "      <th>14</th>\n",
       "      <td>40201592</td>\n",
       "      <td>Modulation of cell fate by shock wave therapy in ischaemic heart disease.</td>\n",
       "      <td>European heart journal open (Eur Heart J Open)</td>\n",
       "      <td>Cardiac surgery, Heart regeneration, Shockwave therapy, Therapeutic transdifferentiation</td>\n",
       "      <td>Cardiac shockwave therapy (SWT) improves left ventricular (LV) function in patients with ischaemic cardiomyopathy. Shockwave therapy activates Toll-like receptor 3 (TLR3), a receptor-inducing chr...</td>\n",
       "      <td>irrelevant</td>\n",
       "    </tr>\n",
       "  </tbody>\n",
       "</table>\n",
       "</div>"
      ],
      "text/plain": [
       "    pubmed_id  \\\n",
       "35   40121237   \n",
       "36   40240239   \n",
       "11   40240564   \n",
       "10   40230848   \n",
       "3    40202825   \n",
       "0    40207234   \n",
       "14   40201592   \n",
       "\n",
       "                                                                                                                                                      title  \\\n",
       "35                                                                   MCL‑1 safeguards activated hair follicle stem cells to enable adult hair regeneration.   \n",
       "36                                       Cystic Fibrosis-related neurodegenerative disease associated with tauopathy and cognitive decline in aged CF mice.   \n",
       "11  Characterization and genome analysis of the novel virulent Burkholderia phage Bm1, which is active against pan-drug-resistant Burkholderia multivorans.   \n",
       "10                                        The role of transketolase in the immunotherapy and prognosis of hepatocellular carcinoma: a multi-omics approach.   \n",
       "3                                                                                    From Fat Providers to Cancer Therapy: Adipocytes as Unexpected Allies.   \n",
       "0                                                                        The distinctive signature of regulatory CD4 T cells committed in the human thymus.   \n",
       "14                                                                                Modulation of cell fate by shock wave therapy in ischaemic heart disease.   \n",
       "\n",
       "                                                                                                  journal  \\\n",
       "35                                                                     Nature communications (Nat Commun)   \n",
       "36  Journal of cystic fibrosis : official journal of the European Cystic Fibrosis Society (J Cyst Fibros)   \n",
       "11                                                                      Archives of virology (Arch Virol)   \n",
       "10                                                                Frontiers in immunology (Front Immunol)   \n",
       "3                                                                            Cancer research (Cancer Res)   \n",
       "0                                                                 Frontiers in immunology (Front Immunol)   \n",
       "14                                                         European heart journal open (Eur Heart J Open)   \n",
       "\n",
       "                                                                                    keywords  \\\n",
       "35                                                                                       NaN   \n",
       "36                                           Cognition, Cystic fibrosis, Dementia, Tauopathy   \n",
       "11                                                                                       NaN   \n",
       "10           Hep-G2, TKT, hepatocellular carcinoma, pentose phosphate pathway, transketolase   \n",
       "3                                                                                        NaN   \n",
       "0    CD4 T cells, FOXP3, RNA-seq, human T-cell development, human thymus, regulatory T cells   \n",
       "14  Cardiac surgery, Heart regeneration, Shockwave therapy, Therapeutic transdifferentiation   \n",
       "\n",
       "                                                                                                                                                                                                   abstract  \\\n",
       "35   Hair follicles cycle through expansion, regression and quiescence. To investigate the role of MCL‑1, a BCL‑2 family protein with anti‑apoptotic and apoptosis‑unrelated functions, we delete Mcl‑1 ...   \n",
       "36   Highly effective modulator therapies (HEMT) are increasing the lifespan for many people with cystic fibrosis (pwCF), making it necessary to identify and understand CF specific age-related consequ...   \n",
       "11   The escalating challenges of antibiotic resistance in bacterial pathogens have necessitated the exploration of alternative therapeutic strategies. Among these, bacteriophage therapy has regained ...   \n",
       "10   To explore the role of transketolase (TKT) in the immunotherapy and prognosis of hepatocellular carcinoma (HCC).  TKT expression across various cancers and its associations with tumor immunity an...   \n",
       "3    Adipocytes from white adipose tissue support cancer progression by supplying fatty acids to tumor cells while cold-activated brown adipose tissue has been shown to inhibit tumor growth by disrupt...   \n",
       "0    Thymically committed regulatory CD4 T cells (tTregs) are essential for immune homeostasis and self- tolerance. We established the human tTreg Expression Signature by comparing genome-wide transcr...   \n",
       "14   Cardiac shockwave therapy (SWT) improves left ventricular (LV) function in patients with ischaemic cardiomyopathy. Shockwave therapy activates Toll-like receptor 3 (TLR3), a receptor-inducing chr...   \n",
       "\n",
       "     llm_class  \n",
       "35    relevant  \n",
       "36  irrelevant  \n",
       "11  irrelevant  \n",
       "10    relevant  \n",
       "3     relevant  \n",
       "0     relevant  \n",
       "14  irrelevant  "
      ]
     },
     "execution_count": 39,
     "metadata": {},
     "output_type": "execute_result"
    }
   ],
   "source": [
    "df_parsed.sample(7)"
   ]
  },
  {
   "cell_type": "code",
   "execution_count": 40,
   "id": "9e5082d7",
   "metadata": {},
   "outputs": [
    {
     "data": {
      "text/plain": [
       "pubmed_id     0\n",
       "title         0\n",
       "journal       0\n",
       "keywords     11\n",
       "abstract      0\n",
       "llm_class     0\n",
       "dtype: int64"
      ]
     },
     "execution_count": 40,
     "metadata": {},
     "output_type": "execute_result"
    }
   ],
   "source": [
    "df_parsed.isna().sum()"
   ]
  },
  {
   "cell_type": "code",
   "execution_count": 38,
   "id": "ff5d3fd9",
   "metadata": {},
   "outputs": [],
   "source": [
    "df_parsed.to_csv(\"../outputs/llm_classified_dataset.csv\", index = False)"
   ]
  },
  {
   "cell_type": "code",
   "execution_count": null,
   "id": "04981e89",
   "metadata": {},
   "outputs": [],
   "source": []
  }
 ],
 "metadata": {
  "kernelspec": {
   "display_name": "Python 3 (ipykernel)",
   "language": "python",
   "name": "python3"
  },
  "language_info": {
   "codemirror_mode": {
    "name": "ipython",
    "version": 3
   },
   "file_extension": ".py",
   "mimetype": "text/x-python",
   "name": "python",
   "nbconvert_exporter": "python",
   "pygments_lexer": "ipython3",
   "version": "3.11.5"
  }
 },
 "nbformat": 4,
 "nbformat_minor": 5
}
