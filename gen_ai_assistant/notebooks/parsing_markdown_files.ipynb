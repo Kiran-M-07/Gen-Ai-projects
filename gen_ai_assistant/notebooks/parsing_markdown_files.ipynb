{
 "cells": [
  {
   "cell_type": "code",
   "execution_count": 2,
   "id": "5ddeb10e",
   "metadata": {},
   "outputs": [],
   "source": [
    "import os \n",
    "import pandas as pd \n",
    "import numpy as np \n",
    "import re "
   ]
  },
  {
   "cell_type": "code",
   "execution_count": 3,
   "id": "0248520a",
   "metadata": {},
   "outputs": [],
   "source": [
    "# path to folders having .md files\n",
    "folder = \"../papers/\""
   ]
  },
  {
   "cell_type": "code",
   "execution_count": 4,
   "id": "bec38228",
   "metadata": {},
   "outputs": [],
   "source": [
    "file = \"../papers/39834406.md\""
   ]
  },
  {
   "cell_type": "code",
   "execution_count": 34,
   "id": "ffc8bda4",
   "metadata": {},
   "outputs": [],
   "source": [
    "import os\n",
    "import json\n",
    "\n",
    "def markdown_parser(folder_path):\n",
    "    articles = []\n",
    "\n",
    "    for filename in os.listdir(folder_path):\n",
    "        if filename.endswith(\".md\"):\n",
    "            with open(os.path.join(folder_path, filename), 'r', encoding='utf-8') as f:\n",
    "                lines = f.readlines()\n",
    "\n",
    "            article = {\n",
    "                \"pubmed_id\": None,\n",
    "                \"title\": None,\n",
    "                \"journal\": None,\n",
    "                \"keywords\": None,\n",
    "                \"abstract\": None,\n",
    "#                 \"full_text\": \"\".join(lines)\n",
    "            }\n",
    "\n",
    "            # Extract title\n",
    "            if lines and lines[0].startswith(\"# \"):\n",
    "                article[\"title\"] = lines[0][2:].strip()\n",
    "\n",
    "            # Extract fields using line-by-line parsing\n",
    "            in_abstract = False\n",
    "            abstract_lines = []\n",
    "            for line in lines:\n",
    "                stripped = line.strip()\n",
    "\n",
    "                if stripped.startswith(\"**PMID:**\"):\n",
    "                    article[\"pubmed_id\"] = stripped.replace(\"**PMID:**\", \"\").strip()\n",
    "\n",
    "                elif stripped.startswith(\"**Journal:**\"):\n",
    "                    article[\"journal\"] = stripped.replace(\"**Journal:**\", \"\").strip()\n",
    "\n",
    "                elif stripped.startswith(\"**Keywords:**\"):\n",
    "                    article[\"keywords\"] = stripped.replace(\"**Keywords:**\", \"\").strip()\n",
    "\n",
    "                elif stripped.startswith(\"## Abstract\"):\n",
    "                    in_abstract = True\n",
    "                    continue\n",
    "\n",
    "                elif in_abstract and stripped.startswith(\"##\"):\n",
    "                    # End of abstract section\n",
    "                    in_abstract = False\n",
    "\n",
    "                elif in_abstract:\n",
    "                    abstract_lines.append(stripped)\n",
    "\n",
    "            if abstract_lines:\n",
    "                article[\"abstract\"] = \" \".join(abstract_lines)\n",
    "\n",
    "            articles.append(article)\n",
    "\n",
    "    return articles\n"
   ]
  },
  {
   "cell_type": "code",
   "execution_count": 35,
   "id": "f0f386d8",
   "metadata": {},
   "outputs": [],
   "source": [
    "papers = markdown_parser(folder)"
   ]
  },
  {
   "cell_type": "code",
   "execution_count": 36,
   "id": "9f4c10be",
   "metadata": {},
   "outputs": [
    {
     "data": {
      "text/plain": [
       "50"
      ]
     },
     "execution_count": 36,
     "metadata": {},
     "output_type": "execute_result"
    }
   ],
   "source": [
    "len(papers)"
   ]
  },
  {
   "cell_type": "code",
   "execution_count": 49,
   "id": "93a380e6",
   "metadata": {},
   "outputs": [],
   "source": [
    "with open(\"../outputs/all_papers.json\", \"w\", encoding=\"utf-8\") as f:\n",
    "    json.dump(papers, f, indent=2)"
   ]
  },
  {
   "cell_type": "code",
   "execution_count": 52,
   "id": "9705f009",
   "metadata": {},
   "outputs": [],
   "source": [
    "df = pd.DataFrame(papers)"
   ]
  },
  {
   "cell_type": "code",
   "execution_count": 54,
   "id": "546208ff",
   "metadata": {},
   "outputs": [],
   "source": [
    "df.to_csv(\"../outputs/parsed_md_files.csv\", index = False)"
   ]
  },
  {
   "cell_type": "code",
   "execution_count": 55,
   "id": "f9d76307",
   "metadata": {},
   "outputs": [
    {
     "data": {
      "text/plain": [
       "(50, 5)"
      ]
     },
     "execution_count": 55,
     "metadata": {},
     "output_type": "execute_result"
    }
   ],
   "source": [
    "df.shape"
   ]
  },
  {
   "cell_type": "code",
   "execution_count": 56,
   "id": "b70c80eb",
   "metadata": {},
   "outputs": [
    {
     "data": {
      "text/plain": [
       "Index(['pubmed_id', 'title', 'journal', 'keywords', 'abstract'], dtype='object')"
      ]
     },
     "execution_count": 56,
     "metadata": {},
     "output_type": "execute_result"
    }
   ],
   "source": [
    "df.columns"
   ]
  },
  {
   "cell_type": "code",
   "execution_count": 57,
   "id": "799d8d14",
   "metadata": {
    "scrolled": true
   },
   "outputs": [
    {
     "data": {
      "text/html": [
       "<div>\n",
       "<style scoped>\n",
       "    .dataframe tbody tr th:only-of-type {\n",
       "        vertical-align: middle;\n",
       "    }\n",
       "\n",
       "    .dataframe tbody tr th {\n",
       "        vertical-align: top;\n",
       "    }\n",
       "\n",
       "    .dataframe thead th {\n",
       "        text-align: right;\n",
       "    }\n",
       "</style>\n",
       "<table border=\"1\" class=\"dataframe\">\n",
       "  <thead>\n",
       "    <tr style=\"text-align: right;\">\n",
       "      <th></th>\n",
       "      <th>pubmed_id</th>\n",
       "      <th>title</th>\n",
       "      <th>journal</th>\n",
       "      <th>keywords</th>\n",
       "      <th>abstract</th>\n",
       "    </tr>\n",
       "  </thead>\n",
       "  <tbody>\n",
       "    <tr>\n",
       "      <th>10</th>\n",
       "      <td>40230848</td>\n",
       "      <td>The role of transketolase in the immunotherapy...</td>\n",
       "      <td>Frontiers in immunology (Front Immunol)</td>\n",
       "      <td>Hep-G2, TKT, hepatocellular carcinoma, pentose...</td>\n",
       "      <td>To explore the role of transketolase (TKT) in...</td>\n",
       "    </tr>\n",
       "    <tr>\n",
       "      <th>29</th>\n",
       "      <td>40166174</td>\n",
       "      <td>High-throughput single cell -omics using semi-...</td>\n",
       "      <td>bioRxiv : the preprint server for biology (bio...</td>\n",
       "      <td>None</td>\n",
       "      <td>Biological systems are inherently complex and...</td>\n",
       "    </tr>\n",
       "    <tr>\n",
       "      <th>27</th>\n",
       "      <td>40241135</td>\n",
       "      <td>ADAR1-high tumor-associated macrophages induce...</td>\n",
       "      <td>Molecular cancer (Mol Cancer)</td>\n",
       "      <td>Biomarker, Chemoresistance, Colorectal cancer,...</td>\n",
       "      <td>Colorectal cancer (CRC) is considered the thi...</td>\n",
       "    </tr>\n",
       "  </tbody>\n",
       "</table>\n",
       "</div>"
      ],
      "text/plain": [
       "   pubmed_id                                              title  \\\n",
       "10  40230848  The role of transketolase in the immunotherapy...   \n",
       "29  40166174  High-throughput single cell -omics using semi-...   \n",
       "27  40241135  ADAR1-high tumor-associated macrophages induce...   \n",
       "\n",
       "                                              journal  \\\n",
       "10            Frontiers in immunology (Front Immunol)   \n",
       "29  bioRxiv : the preprint server for biology (bio...   \n",
       "27                      Molecular cancer (Mol Cancer)   \n",
       "\n",
       "                                             keywords  \\\n",
       "10  Hep-G2, TKT, hepatocellular carcinoma, pentose...   \n",
       "29                                               None   \n",
       "27  Biomarker, Chemoresistance, Colorectal cancer,...   \n",
       "\n",
       "                                             abstract  \n",
       "10   To explore the role of transketolase (TKT) in...  \n",
       "29   Biological systems are inherently complex and...  \n",
       "27   Colorectal cancer (CRC) is considered the thi...  "
      ]
     },
     "execution_count": 57,
     "metadata": {},
     "output_type": "execute_result"
    }
   ],
   "source": [
    "df.sample(3)"
   ]
  },
  {
   "cell_type": "code",
   "execution_count": null,
   "id": "fa4ec1e7",
   "metadata": {},
   "outputs": [],
   "source": []
  }
 ],
 "metadata": {
  "kernelspec": {
   "display_name": "Python 3 (ipykernel)",
   "language": "python",
   "name": "python3"
  },
  "language_info": {
   "codemirror_mode": {
    "name": "ipython",
    "version": 3
   },
   "file_extension": ".py",
   "mimetype": "text/x-python",
   "name": "python",
   "nbconvert_exporter": "python",
   "pygments_lexer": "ipython3",
   "version": "3.11.5"
  }
 },
 "nbformat": 4,
 "nbformat_minor": 5
}
