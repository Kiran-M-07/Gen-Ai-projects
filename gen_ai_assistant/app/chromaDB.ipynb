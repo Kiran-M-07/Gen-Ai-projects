{
 "cells": [
  {
   "cell_type": "code",
   "execution_count": 29,
   "id": "52425527",
   "metadata": {},
   "outputs": [],
   "source": [
    "import chromadb\n",
    "import pandas as pd \n",
    "from sentence_transformers import SentenceTransformer"
   ]
  },
  {
   "cell_type": "code",
   "execution_count": 30,
   "id": "6a937925",
   "metadata": {},
   "outputs": [
    {
     "name": "stderr",
     "output_type": "stream",
     "text": [
      "huggingface/tokenizers: The current process just got forked, after parallelism has already been used. Disabling parallelism to avoid deadlocks...\n",
      "To disable this warning, you can either:\n",
      "\t- Avoid using `tokenizers` before the fork if possible\n",
      "\t- Explicitly set the environment variable TOKENIZERS_PARALLELISM=(true | false)\n"
     ]
    },
    {
     "data": {
      "application/vnd.jupyter.widget-view+json": {
       "model_id": "34310ccdd3c34f29b6721bed5fe3e686",
       "version_major": 2,
       "version_minor": 0
      },
      "text/plain": [
       "modules.json:   0%|          | 0.00/349 [00:00<?, ?B/s]"
      ]
     },
     "metadata": {},
     "output_type": "display_data"
    },
    {
     "data": {
      "application/vnd.jupyter.widget-view+json": {
       "model_id": "76069834547145f88b5cf045e2dc8d50",
       "version_major": 2,
       "version_minor": 0
      },
      "text/plain": [
       "config_sentence_transformers.json:   0%|          | 0.00/116 [00:00<?, ?B/s]"
      ]
     },
     "metadata": {},
     "output_type": "display_data"
    },
    {
     "data": {
      "application/vnd.jupyter.widget-view+json": {
       "model_id": "ae013b63c9484038b4ec6aefc11ea6fa",
       "version_major": 2,
       "version_minor": 0
      },
      "text/plain": [
       "README.md:   0%|          | 0.00/10.5k [00:00<?, ?B/s]"
      ]
     },
     "metadata": {},
     "output_type": "display_data"
    },
    {
     "data": {
      "application/vnd.jupyter.widget-view+json": {
       "model_id": "d5ec7ae6430e465aa47375f2e154f0ec",
       "version_major": 2,
       "version_minor": 0
      },
      "text/plain": [
       "sentence_bert_config.json:   0%|          | 0.00/53.0 [00:00<?, ?B/s]"
      ]
     },
     "metadata": {},
     "output_type": "display_data"
    },
    {
     "data": {
      "application/vnd.jupyter.widget-view+json": {
       "model_id": "34e18db4f7764e3ba6de9881bcc16f15",
       "version_major": 2,
       "version_minor": 0
      },
      "text/plain": [
       "config.json:   0%|          | 0.00/612 [00:00<?, ?B/s]"
      ]
     },
     "metadata": {},
     "output_type": "display_data"
    },
    {
     "name": "stderr",
     "output_type": "stream",
     "text": [
      "Xet Storage is enabled for this repo, but the 'hf_xet' package is not installed. Falling back to regular HTTP download. For better performance, install the package with: `pip install huggingface_hub[hf_xet]` or `pip install hf_xet`\n"
     ]
    },
    {
     "data": {
      "application/vnd.jupyter.widget-view+json": {
       "model_id": "f8bf721c8f714f47a609a2bbbb332547",
       "version_major": 2,
       "version_minor": 0
      },
      "text/plain": [
       "model.safetensors:   0%|          | 0.00/90.9M [00:00<?, ?B/s]"
      ]
     },
     "metadata": {},
     "output_type": "display_data"
    },
    {
     "data": {
      "application/vnd.jupyter.widget-view+json": {
       "model_id": "5f2ca81fde0b489389d97953fed1e4dd",
       "version_major": 2,
       "version_minor": 0
      },
      "text/plain": [
       "tokenizer_config.json:   0%|          | 0.00/350 [00:00<?, ?B/s]"
      ]
     },
     "metadata": {},
     "output_type": "display_data"
    },
    {
     "data": {
      "application/vnd.jupyter.widget-view+json": {
       "model_id": "844e969232c54c3b94a56e267bf8ea5d",
       "version_major": 2,
       "version_minor": 0
      },
      "text/plain": [
       "vocab.txt:   0%|          | 0.00/232k [00:00<?, ?B/s]"
      ]
     },
     "metadata": {},
     "output_type": "display_data"
    },
    {
     "data": {
      "application/vnd.jupyter.widget-view+json": {
       "model_id": "1d3d125775fe45d39c562c4f56dfcff1",
       "version_major": 2,
       "version_minor": 0
      },
      "text/plain": [
       "tokenizer.json:   0%|          | 0.00/466k [00:00<?, ?B/s]"
      ]
     },
     "metadata": {},
     "output_type": "display_data"
    },
    {
     "data": {
      "application/vnd.jupyter.widget-view+json": {
       "model_id": "621d4b053f93406680914bd05f1bf65e",
       "version_major": 2,
       "version_minor": 0
      },
      "text/plain": [
       "special_tokens_map.json:   0%|          | 0.00/112 [00:00<?, ?B/s]"
      ]
     },
     "metadata": {},
     "output_type": "display_data"
    },
    {
     "data": {
      "application/vnd.jupyter.widget-view+json": {
       "model_id": "95339028892a47af97b36c720d0226d3",
       "version_major": 2,
       "version_minor": 0
      },
      "text/plain": [
       "config.json:   0%|          | 0.00/190 [00:00<?, ?B/s]"
      ]
     },
     "metadata": {},
     "output_type": "display_data"
    }
   ],
   "source": [
    "embedding_model = SentenceTransformer(\"all-MiniLM-L6-v2\")"
   ]
  },
  {
   "cell_type": "code",
   "execution_count": 31,
   "id": "894e6140",
   "metadata": {},
   "outputs": [],
   "source": [
    "client = chromadb.Client()\n",
    "collection = client.create_collection(name = \"bio_med_articles\")"
   ]
  },
  {
   "cell_type": "code",
   "execution_count": 8,
   "id": "6bdf59d8",
   "metadata": {},
   "outputs": [],
   "source": [
    "df_insights = pd.read_csv(\"data/insights_meta.csv\")"
   ]
  },
  {
   "cell_type": "code",
   "execution_count": 10,
   "id": "a9890453",
   "metadata": {},
   "outputs": [],
   "source": [
    "ids = df_insights[\"pubmed_id\"].tolist()\n",
    "document = df_insights[\"full_text\"].tolist()"
   ]
  },
  {
   "cell_type": "code",
   "execution_count": 12,
   "id": "da277991",
   "metadata": {},
   "outputs": [],
   "source": [
    "ids = [str(item) for item in ids]"
   ]
  },
  {
   "cell_type": "code",
   "execution_count": 13,
   "id": "44ad2ce4",
   "metadata": {},
   "outputs": [],
   "source": [
    "collection.add(\n",
    "    documents=document,\n",
    "    ids=ids\n",
    ")"
   ]
  },
  {
   "cell_type": "markdown",
   "id": "9c300803",
   "metadata": {},
   "source": [
    "# Add texts to chroma DB"
   ]
  },
  {
   "cell_type": "code",
   "execution_count": 32,
   "id": "c0c60100",
   "metadata": {},
   "outputs": [],
   "source": [
    "def add_texts_to_chroma(documents: list[str], ids: list[str]):\n",
    "    embeddings = embedding_model.encode(documents).tolist()\n",
    "    collection.add(documents=documents, embeddings=embeddings, ids=ids)\n",
    "    print(\"Documents added to ChromaDB\")"
   ]
  },
  {
   "cell_type": "code",
   "execution_count": 33,
   "id": "319083c5",
   "metadata": {},
   "outputs": [
    {
     "name": "stdout",
     "output_type": "stream",
     "text": [
      "Documents added to ChromaDB\n"
     ]
    }
   ],
   "source": [
    "add_texts_to_chroma(documents=document,ids=ids)"
   ]
  },
  {
   "cell_type": "code",
   "execution_count": 34,
   "id": "b5f62df1",
   "metadata": {},
   "outputs": [],
   "source": [
    "llm = ChatGroq(\n",
    "    temperature = 0,\n",
    "    groq_api_key = \"<your_api_key>",\n",
    "    model_name = \"llama-3.1-8b-instant\"\n",
    ")"
   ]
  },
  {
   "cell_type": "code",
   "execution_count": 35,
   "id": "37287441",
   "metadata": {},
   "outputs": [],
   "source": [
    "def answer_question_with_rag(question: str, top_k: int = 3) -> str:\n",
    "    # Get embedding for question\n",
    "    question_embedding = embedding_model.encode([question])[0].tolist()\n",
    "\n",
    "    # Search ChromaDB for similar docs\n",
    "    results = collection.query(query_embeddings=[question_embedding], n_results=top_k)\n",
    "\n",
    "    relevant_docs = results['documents'][0]\n",
    "\n",
    "    # Build LLM prompt using retrieved documents\n",
    "    context = \"\\n\\n\".join(relevant_docs)\n",
    "    \n",
    "    prompt = f\"\"\"You are a biomedical research assistant. \n",
    "    Use the following context to answer the question:\\n\\n{context}\\n\\nQuestion: {question}\\nAnswer:\"\"\"\n",
    "\n",
    "    # Call groq LLM \n",
    "    response = llm.invoke(prompt)\n",
    "    \n",
    "\n",
    "    return response.content"
   ]
  },
  {
   "cell_type": "code",
   "execution_count": 38,
   "id": "631a52a0",
   "metadata": {},
   "outputs": [
    {
     "data": {
      "text/plain": [
       "\"Based on the provided context, it seems that the question is asking about how tumors can be removed easily, which is a complex issue in cancer treatment. However, the articles provided do not directly address this question.\\n\\nBut, if we consider the information provided in the articles, we can infer that understanding the tumor microenvironment and the interactions between cancer cells and their surrounding cells, such as tumor-associated macrophages and cancer-associated fibroblasts, may provide insights into developing more effective treatments.\\n\\nFrom the article with PUBMED_ID: 40241135, we can see that targeting ADAR1-high tumor-associated macrophages may be a promising approach to overcome drug resistance in colorectal cancer. This suggests that understanding the role of these cells in tumor progression and developing strategies to target them may lead to more effective treatments.\\n\\nFrom the article with PUBMED_ID: 40025479, we can see that cancer-associated fibroblasts play a crucial role in the tumor microenvironment and that targeting these cells may be beneficial in treating esophageal squamous cell carcinoma.\\n\\nFrom the article with PUBMED_ID: 40183402, we can see that tumor organoids, which are three-dimensional miniature structures that retain the patient-specific tumor heterogeneity, may be used to study tumors and develop more effective treatments.\\n\\nTherefore, while the articles do not directly answer the question of how tumors can be removed easily, they suggest that understanding the tumor microenvironment and developing targeted therapies may be key to improving treatment outcomes.\\n\\nIn terms of removing tumors easily, some potential approaches that are being explored include:\\n\\n1. Immunotherapy: This involves using the body's immune system to fight cancer. By targeting specific cells in the tumor microenvironment, such as tumor-associated macrophages, it may be possible to enhance the immune response and make tumors more susceptible to treatment.\\n2. Targeted therapies: These involve developing treatments that specifically target the molecular mechanisms that drive tumor growth and progression. By targeting these mechanisms, it may be possible to selectively kill cancer cells while sparing healthy cells.\\n3. Tumor organoids: These are three-dimensional miniature structures that retain the patient-specific tumor heterogeneity. By using tumor organoids to study tumors and develop more effective treatments, it may be possible to improve treatment outcomes and make tumors more susceptible to removal.\\n4. Advanced technologies: The combination of tumor organoids with advanced technologies, such as organ-on-a-chip, 3D-bioprinting, and CRISPR/Cas9, may provide new insights into tumor biology and lead to the development of more effective treatments.\\n\\nOverall, while there is no single answer to the question of how tumors can be removed easily, the articles provided suggest that understanding the tumor microenvironment and developing targeted therapies may be key to improving treatment outcomes.\""
      ]
     },
     "execution_count": 38,
     "metadata": {},
     "output_type": "execute_result"
    }
   ],
   "source": [
    "question = \"how tumors can be removed easily?\"\n",
    "answer_question_with_rag(question,3)"
   ]
  },
  {
   "cell_type": "code",
   "execution_count": 15,
   "id": "2a58909e",
   "metadata": {},
   "outputs": [],
   "source": [
    "results = collection.query(\n",
    "    query_texts = [\"how to cure cancer?\"],\n",
    "    n_results = 2    \n",
    ")\n"
   ]
  },
  {
   "cell_type": "code",
   "execution_count": 21,
   "id": "0034492f",
   "metadata": {},
   "outputs": [
    {
     "name": "stdout",
     "output_type": "stream",
     "text": [
      "PUBMED_ID :40202825\n",
      "Title :From Fat Providers to Cancer Therapy: Adipocytes as Unexpected Allies.\n",
      "\n",
      "Abstract :\n",
      " Adipocytes from white adipose tissue support cancer progression by supplying fatty acids to tumor cells while cold-activated brown adipose tissue has been shown to inhibit tumor growth by disrupting cancer cell metabolism. In a groundbreaking study published in Nature Biotechnology, Nguyen and colleagues developed Adipose-Modified Therapy (AMT), a strategy that genetically reprograms white adipocytes to outcompete tumors for key nutrients. Using CRISPR activation technology, researchers enhanced adipocyte glucose and fatty acid consumption, by inducing a stable browning phenotype. In vitro, browned adipocytes reduced glycolysis and fatty acid oxidation in cancer cells, inhibiting their proliferation. Implantation of engineered adipose organoids adjacent to tumors suppressed tumor growth, reduced angiogenesis, and altered metabolic gene expression in xenograft models. AMT also prevented tumor development in genetic mouse models of cancer, suggesting a role in cancer prevention. Finally, modified human mammary adipocytes inhibited the growth of patient-derived breast cancer organoids. This therapy, based on autologous fat transplantation, could offer a reversible and patient-specific approach. Challenges remain, including metabolic plasticity in cancer cells and the fragility of mature adipocytes in cell culture. AMT represents a paradigm shift in cancer therapy, leveraging adipocytes as metabolic competitors rather than tumor facilitators, opening new avenues for metabolism-targeted cancer treatments.\n"
     ]
    }
   ],
   "source": [
    "print(results[\"documents\"][0][0])"
   ]
  },
  {
   "cell_type": "code",
   "execution_count": 24,
   "id": "fc3a5544",
   "metadata": {},
   "outputs": [],
   "source": [
    "prompt_read_and_answer = \"\"\"\n",
    "Read the below article and answer the question (below ##Question) in 1-2 sentences.\n",
    "## Article\n",
    "{article}\n",
    "\n",
    "## Question\n",
    "\"How to cure cancer ?\"\n",
    "\"\"\".strip()"
   ]
  },
  {
   "cell_type": "code",
   "execution_count": 23,
   "id": "36d1fa27",
   "metadata": {},
   "outputs": [],
   "source": [
    "from langchain_groq import ChatGroq\n",
    "llm = ChatGroq(\n",
    "    temperature = 0,\n",
    "    groq_api_key = \"<your_api_key>\",\n",
    "    model_name = \"llama-3.1-8b-instant\"\n",
    ")"
   ]
  },
  {
   "cell_type": "code",
   "execution_count": 25,
   "id": "f85bb9d3",
   "metadata": {},
   "outputs": [],
   "source": [
    "prompt_formatted = prompt_read_and_answer.format(article = results[\"documents\"][0][0])"
   ]
  },
  {
   "cell_type": "code",
   "execution_count": 27,
   "id": "228e2114",
   "metadata": {},
   "outputs": [],
   "source": [
    "ans = llm.invoke(prompt_formatted)"
   ]
  },
  {
   "cell_type": "code",
   "execution_count": 28,
   "id": "c21f1039",
   "metadata": {},
   "outputs": [
    {
     "name": "stdout",
     "output_type": "stream",
     "text": [
      "The article does not provide a definitive answer to how to cure cancer, but rather presents a new approach called Adipose-Modified Therapy (AMT) that leverages adipocytes as metabolic competitors to inhibit tumor growth and potentially prevent cancer development. This therapy involves genetically reprogramming white adipocytes to outcompete tumors for key nutrients.\n"
     ]
    }
   ],
   "source": [
    "print(ans.content)"
   ]
  },
  {
   "cell_type": "code",
   "execution_count": null,
   "id": "f1b3e763",
   "metadata": {},
   "outputs": [],
   "source": []
  }
 ],
 "metadata": {
  "kernelspec": {
   "display_name": "Python 3 (ipykernel)",
   "language": "python",
   "name": "python3"
  },
  "language_info": {
   "codemirror_mode": {
    "name": "ipython",
    "version": 3
   },
   "file_extension": ".py",
   "mimetype": "text/x-python",
   "name": "python",
   "nbconvert_exporter": "python",
   "pygments_lexer": "ipython3",
   "version": "3.11.5"
  }
 },
 "nbformat": 4,
 "nbformat_minor": 5
}
