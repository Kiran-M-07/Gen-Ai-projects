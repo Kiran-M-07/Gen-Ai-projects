{
 "cells": [
  {
   "cell_type": "code",
   "execution_count": 5,
   "id": "796d344b",
   "metadata": {},
   "outputs": [],
   "source": [
    "import chromadb\n",
    "import pandas as pd "
   ]
  },
  {
   "cell_type": "code",
   "execution_count": 7,
   "id": "6fdcc651",
   "metadata": {},
   "outputs": [],
   "source": [
    "client = chromadb.Client()\n",
    "collection = client.create_collection(name = \"med_articles\")"
   ]
  },
  {
   "cell_type": "code",
   "execution_count": 8,
   "id": "b59ef7c9",
   "metadata": {},
   "outputs": [],
   "source": [
    "df_insights = pd.read_csv(\"data/insights_meta.csv\")"
   ]
  },
  {
   "cell_type": "code",
   "execution_count": 10,
   "id": "fa5630b2",
   "metadata": {},
   "outputs": [],
   "source": [
    "ids = df_insights[\"pubmed_id\"].tolist()\n",
    "document = df_insights[\"full_text\"].tolist()"
   ]
  },
  {
   "cell_type": "code",
   "execution_count": 12,
   "id": "8773fbb6",
   "metadata": {},
   "outputs": [],
   "source": [
    "ids = [str(item) for item in ids]"
   ]
  },
  {
   "cell_type": "code",
   "execution_count": 13,
   "id": "6858aca4",
   "metadata": {},
   "outputs": [],
   "source": [
    "collection.add(\n",
    "    documents=document,\n",
    "    ids=ids\n",
    ")"
   ]
  },
  {
   "cell_type": "code",
   "execution_count": 15,
   "id": "cec76cc4",
   "metadata": {},
   "outputs": [],
   "source": [
    "results = collection.query(\n",
    "    query_texts = [\"how to cure cancer?\"],\n",
    "    n_results = 2    \n",
    ")\n"
   ]
  },
  {
   "cell_type": "code",
   "execution_count": 21,
   "id": "9354b12d",
   "metadata": {},
   "outputs": [
    {
     "name": "stdout",
     "output_type": "stream",
     "text": [
      "PUBMED_ID :40202825\n",
      "Title :From Fat Providers to Cancer Therapy: Adipocytes as Unexpected Allies.\n",
      "\n",
      "Abstract :\n",
      " Adipocytes from white adipose tissue support cancer progression by supplying fatty acids to tumor cells while cold-activated brown adipose tissue has been shown to inhibit tumor growth by disrupting cancer cell metabolism. In a groundbreaking study published in Nature Biotechnology, Nguyen and colleagues developed Adipose-Modified Therapy (AMT), a strategy that genetically reprograms white adipocytes to outcompete tumors for key nutrients. Using CRISPR activation technology, researchers enhanced adipocyte glucose and fatty acid consumption, by inducing a stable browning phenotype. In vitro, browned adipocytes reduced glycolysis and fatty acid oxidation in cancer cells, inhibiting their proliferation. Implantation of engineered adipose organoids adjacent to tumors suppressed tumor growth, reduced angiogenesis, and altered metabolic gene expression in xenograft models. AMT also prevented tumor development in genetic mouse models of cancer, suggesting a role in cancer prevention. Finally, modified human mammary adipocytes inhibited the growth of patient-derived breast cancer organoids. This therapy, based on autologous fat transplantation, could offer a reversible and patient-specific approach. Challenges remain, including metabolic plasticity in cancer cells and the fragility of mature adipocytes in cell culture. AMT represents a paradigm shift in cancer therapy, leveraging adipocytes as metabolic competitors rather than tumor facilitators, opening new avenues for metabolism-targeted cancer treatments.\n"
     ]
    }
   ],
   "source": [
    "print(results[\"documents\"][0][0])"
   ]
  },
  {
   "cell_type": "code",
   "execution_count": 24,
   "id": "03e4dc48",
   "metadata": {},
   "outputs": [],
   "source": [
    "prompt_read_and_answer = \"\"\"\n",
    "Read the below article and answer the question (below ##Question) in 1-2 sentences.\n",
    "## Article\n",
    "{article}\n",
    "\n",
    "## Question\n",
    "\"How to cure cancer ?\"\n",
    "\"\"\".strip()"
   ]
  },
  {
   "cell_type": "code",
   "execution_count": 23,
   "id": "12e1a1d3",
   "metadata": {},
   "outputs": [],
   "source": [
    "from langchain_groq import ChatGroq\n",
    "llm = ChatGroq(\n",
    "    temperature = 0,\n",
    "    groq_api_key = \"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\",\n",
    "    model_name = \"llama-3.1-8b-instant\"\n",
    ")"
   ]
  },
  {
   "cell_type": "code",
   "execution_count": 25,
   "id": "baf98a88",
   "metadata": {},
   "outputs": [],
   "source": [
    "prompt_formatted = prompt_read_and_answer.format(article = results[\"documents\"][0][0])"
   ]
  },
  {
   "cell_type": "code",
   "execution_count": 27,
   "id": "3e4677ea",
   "metadata": {},
   "outputs": [],
   "source": [
    "ans = llm.invoke(prompt_formatted)"
   ]
  },
  {
   "cell_type": "code",
   "execution_count": 28,
   "id": "0decd53e",
   "metadata": {},
   "outputs": [
    {
     "name": "stdout",
     "output_type": "stream",
     "text": [
      "The article does not provide a definitive answer to how to cure cancer, but rather presents a new approach called Adipose-Modified Therapy (AMT) that leverages adipocytes as metabolic competitors to inhibit tumor growth and potentially prevent cancer development. This therapy involves genetically reprogramming white adipocytes to outcompete tumors for key nutrients.\n"
     ]
    }
   ],
   "source": [
    "print(ans.content)"
   ]
  },
  {
   "cell_type": "code",
   "execution_count": null,
   "id": "f5a4cca1",
   "metadata": {},
   "outputs": [],
   "source": []
  }
 ],
 "metadata": {
  "kernelspec": {
   "display_name": "Python 3 (ipykernel)",
   "language": "python",
   "name": "python3"
  },
  "language_info": {
   "codemirror_mode": {
    "name": "ipython",
    "version": 3
   },
   "file_extension": ".py",
   "mimetype": "text/x-python",
   "name": "python",
   "nbconvert_exporter": "python",
   "pygments_lexer": "ipython3",
   "version": "3.11.5"
  }
 },
 "nbformat": 4,
 "nbformat_minor": 5
}
