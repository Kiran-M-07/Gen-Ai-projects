{
 "cells": [
  {
   "cell_type": "code",
   "execution_count": 1,
   "id": "af000dee",
   "metadata": {},
   "outputs": [],
   "source": [
    "from langchain_groq import ChatGroq"
   ]
  },
  {
   "cell_type": "code",
   "execution_count": 8,
   "id": "c33b04f2",
   "metadata": {},
   "outputs": [],
   "source": [
    "llm = ChatGroq(\n",
    "\n",
    "    temperature = 0,\n",
    "    groq_api_key = \"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\",\n",
    "    model_name = \"llama-3.1-8b-instant\"\n",
    "\n",
    ")"
   ]
  },
  {
   "cell_type": "code",
   "execution_count": 9,
   "id": "adde82f5",
   "metadata": {},
   "outputs": [],
   "source": [
    "response = llm.invoke(\"What is artificial intelligence?\")"
   ]
  },
  {
   "cell_type": "code",
   "execution_count": 10,
   "id": "c7871d14",
   "metadata": {},
   "outputs": [
    {
     "name": "stdout",
     "output_type": "stream",
     "text": [
      "Artificial intelligence (AI) refers to the simulation of human intelligence in machines that are programmed to think and learn like humans. The term can also be applied to any machine that exhibits traits associated with a human mind such as learning and problem-solving.\n",
      "\n",
      "AI technology is based on the principle of creating algorithms that can process data, identify patterns, and make decisions without being explicitly programmed for each specific task. This allows AI systems to adapt and improve over time, much like humans do.\n",
      "\n",
      "There are several key characteristics of artificial intelligence:\n",
      "\n",
      "1. **Machine Learning**: AI systems can learn from data and improve their performance over time.\n",
      "2. **Reasoning**: AI systems can draw conclusions and make decisions based on the data they have been trained on.\n",
      "3. **Problem-Solving**: AI systems can identify and solve complex problems.\n",
      "4. **Natural Language Processing**: AI systems can understand and generate human language.\n",
      "5. **Computer Vision**: AI systems can interpret and understand visual data from images and videos.\n",
      "\n",
      "AI has many applications across various industries, including:\n",
      "\n",
      "1. **Virtual Assistants**: AI-powered virtual assistants, such as Siri and Alexa, can perform tasks and answer questions.\n",
      "2. **Image Recognition**: AI-powered image recognition systems can identify objects and people in images.\n",
      "3. **Predictive Maintenance**: AI-powered predictive maintenance systems can predict when equipment is likely to fail.\n",
      "4. **Healthcare**: AI-powered healthcare systems can analyze medical data and provide personalized treatment recommendations.\n",
      "5. **Autonomous Vehicles**: AI-powered autonomous vehicles can navigate and make decisions without human input.\n",
      "\n",
      "There are several types of artificial intelligence, including:\n",
      "\n",
      "1. **Narrow or Weak AI**: AI systems designed to perform a specific task, such as facial recognition or language translation.\n",
      "2. **General or Strong AI**: AI systems that possess the ability to understand, learn, and apply knowledge across a wide range of tasks.\n",
      "3. **Superintelligence**: AI systems that possess intelligence far beyond that of the best human minds.\n",
      "\n",
      "Overall, artificial intelligence has the potential to revolutionize many aspects of our lives, from healthcare and education to transportation and entertainment.\n"
     ]
    }
   ],
   "source": [
    "print(response.content)"
   ]
  },
  {
   "cell_type": "code",
   "execution_count": null,
   "id": "45a0f8f0",
   "metadata": {},
   "outputs": [],
   "source": []
  }
 ],
 "metadata": {
  "kernelspec": {
   "display_name": "Python 3 (ipykernel)",
   "language": "python",
   "name": "python3"
  },
  "language_info": {
   "codemirror_mode": {
    "name": "ipython",
    "version": 3
   },
   "file_extension": ".py",
   "mimetype": "text/x-python",
   "name": "python",
   "nbconvert_exporter": "python",
   "pygments_lexer": "ipython3",
   "version": "3.11.5"
  }
 },
 "nbformat": 4,
 "nbformat_minor": 5
}
