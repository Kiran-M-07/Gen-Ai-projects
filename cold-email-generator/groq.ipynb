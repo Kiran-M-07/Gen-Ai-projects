{
 "cells": [
  {
   "cell_type": "code",
   "execution_count": 1,
   "id": "9f5b67ed",
   "metadata": {},
   "outputs": [],
   "source": [
    "from langchain_groq import ChatGroq"
   ]
  },
  {
   "cell_type": "code",
   "execution_count": null,
   "id": "50364418",
   "metadata": {},
   "outputs": [],
   "source": [
    "llm = ChatGroq(\n",
    "\n",
    "    temperature = 0,\n",
    "    groq_api_key = \"<your_key>\",\n",
    "    model_name = \"llama-3.3-70b-versatile\"\n",
    "\n",
    ")"
   ]
  },
  {
   "cell_type": "code",
   "execution_count": 3,
   "id": "a2c8a705",
   "metadata": {},
   "outputs": [],
   "source": [
    "response = llm.invoke(\"What is artificial intelligence?\")"
   ]
  },
  {
   "cell_type": "code",
   "execution_count": 4,
   "id": "20a97731",
   "metadata": {},
   "outputs": [
    {
     "name": "stdout",
     "output_type": "stream",
     "text": [
      "**Artificial Intelligence (AI)**: Artificial intelligence refers to the development of computer systems that can perform tasks that typically require human intelligence, such as:\n",
      "\n",
      "1. **Learning**: AI systems can learn from data and improve their performance over time.\n",
      "2. **Problem-solving**: AI systems can analyze problems and find solutions.\n",
      "3. **Reasoning**: AI systems can draw inferences and make decisions based on available data.\n",
      "4. **Perception**: AI systems can interpret and understand data from sensors, such as images, speech, and text.\n",
      "\n",
      "The goal of AI is to create systems that can think and act like humans, but with the ability to process and analyze large amounts of data much faster and more accurately.\n",
      "\n",
      "**Types of AI**:\n",
      "\n",
      "1. **Narrow or Weak AI**: Designed to perform a specific task, such as image recognition, language translation, or playing chess.\n",
      "2. **General or Strong AI**: A hypothetical AI system that possesses human-like intelligence and can perform any intellectual task.\n",
      "3. **Superintelligence**: An AI system that is significantly more intelligent than the best human minds.\n",
      "\n",
      "**Applications of AI**:\n",
      "\n",
      "1. **Virtual assistants**: Siri, Alexa, and Google Assistant\n",
      "2. **Image recognition**: Self-driving cars, facial recognition systems\n",
      "3. **Natural language processing**: Language translation, text summarization\n",
      "4. **Predictive analytics**: Forecasting, recommendation systems\n",
      "5. **Robotics**: Industrial automation, service robots\n",
      "\n",
      "**Key AI technologies**:\n",
      "\n",
      "1. **Machine learning**: A subset of AI that involves training algorithms on data to make predictions or decisions.\n",
      "2. **Deep learning**: A type of machine learning that uses neural networks to analyze data.\n",
      "3. **Natural language processing**: A field of AI that deals with the interaction between computers and humans in natural language.\n",
      "\n",
      "Overall, artificial intelligence has the potential to revolutionize many aspects of our lives, from healthcare and education to transportation and entertainment.\n"
     ]
    }
   ],
   "source": [
    "print(response.content)"
   ]
  },
  {
   "cell_type": "code",
   "execution_count": null,
   "id": "0cdccd4a",
   "metadata": {},
   "outputs": [],
   "source": []
  }
 ],
 "metadata": {
  "kernelspec": {
   "display_name": "Python 3 (ipykernel)",
   "language": "python",
   "name": "python3"
  },
  "language_info": {
   "codemirror_mode": {
    "name": "ipython",
    "version": 3
   },
   "file_extension": ".py",
   "mimetype": "text/x-python",
   "name": "python",
   "nbconvert_exporter": "python",
   "pygments_lexer": "ipython3",
   "version": "3.11.5"
  }
 },
 "nbformat": 4,
 "nbformat_minor": 5
}
