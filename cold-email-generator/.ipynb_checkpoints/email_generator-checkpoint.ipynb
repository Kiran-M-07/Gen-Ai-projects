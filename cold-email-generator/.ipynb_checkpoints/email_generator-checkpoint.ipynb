{
 "cells": [
  {
   "cell_type": "markdown",
   "id": "726158f8",
   "metadata": {},
   "source": [
    "# Web Scraping - Job Posting"
   ]
  },
  {
   "cell_type": "code",
   "execution_count": 1,
   "id": "9806c692",
   "metadata": {},
   "outputs": [
    {
     "name": "stderr",
     "output_type": "stream",
     "text": [
      "USER_AGENT environment variable not set, consider setting it to identify your requests.\n"
     ]
    }
   ],
   "source": [
    "from langchain_community.document_loaders import WebBaseLoader"
   ]
  },
  {
   "cell_type": "code",
   "execution_count": 4,
   "id": "470b4380",
   "metadata": {},
   "outputs": [],
   "source": [
    "url = \"https://www.google.com/about/careers/applications/jobs/results/122573769037226694-senior-technical-program-manager-i-infrastructure-google-cloud\"\n",
    "loader = WebBaseLoader(url)\n",
    "page_data = loader.load().pop().page_content"
   ]
  },
  {
   "cell_type": "code",
   "execution_count": 5,
   "id": "ec0576b0",
   "metadata": {},
   "outputs": [
    {
     "name": "stdout",
     "output_type": "stream",
     "text": [
      "Senior Technical Program Manager I, Infrastructure, Google Cloud — Google CareersCareersSkip navigation linkshomehomeHomeHomework_outlinework_outlineJobsJobsnoogler_hatnoogler_hatStudentsStudentsgooglegoogleHow we workHow we workhandymanhandymanHow we hireHow we hireperson_outlineperson_outlineYour careerYour careerhelp_outlineHelp linkfeedbackSend feedbackmore_vert HelpSend FeedbackSign inCareershomeHomework_outlineJobsexpand_morenoogler_hatStudentsexpand_moregoogleHow we workexpand_morehandymanHow we hireexpand_moreperson_outlineYour careerexpand_morejob detailsarrow_backBack to jobs searchJobs search results3,400  jobs matchedSoftware Engineer III, Infrastructure, CoreBengaluru, Karnataka, IndiaSenior Software Engineer, AI/ML GenAI, Google Cloud AISunnyvale, CA, USA; Kirkland, WA, USATechnical Program Manager, Edge Capacity DeliveryDublin, IrelandSoftware Engineer III, Google CloudBengaluru, Karnataka, India; Hyderabad, Telangana, India; +2 more; +1 moreSenior Software Engineer, Core Data, Data IndexingBengaluru, Karnataka, IndiaSoftware Engineer, PhotosSydney NSW, AustraliaSenior Analytical Lead, Americas App LeadsNew York, NY, USA; Chicago, IL, USAProgram Manager, Data Center Operations, Environmental, Health and Safety (English, Malay)Kuala Lumpur, Federal Territory of Kuala Lumpur, MalaysiaProduct Engineer, ARM Servers and Storage SystemsSunnyvale, CA, USASoftware Engineer, gReach Program for People with Disabilities (장애인 채용)Seoul, South KoreaKaggle Staff Software Engineer, AI/MLSunnyvale, CA, USAData Center Business Program ManagerKuala Lumpur, Federal Territory of Kuala Lumpur, MalaysiaProgram Manager, Google Enterprise Networking, University GraduateAustin, TX, USASenior Internal Controls ManagerToronto, ON, CanadaCPU Performance Modeling Engineer, Google CloudTel Aviv, Israel; Haifa, IsraelStaff Software Engineer, Chrome AccessibilityMexico City, CDMX, MexicoSoftware Engineer III, MultiplatformMexico City, CDMX, MexicoSoftware Engineering Manager II, Administrative Access PlatformChicago, IL, USAData Scientist, Research, App Safety EngineeringBengaluru, Karnataka, IndiaSenior Manager, Clean Energy and PowerSingapore1‑20 of 3400navigate_nextFollow Life at Google on More about usAbout usopen_in_newContact usopen_in_newPressopen_in_newRelated InformationInvestor relationsopen_in_newBlogopen_in_newEqual OpportunityGoogle is proud to be an equal opportunity and affirmative action employer. We are committed to building a workforce that is representative of the users we serve, creating a culture of belonging, and providing an equal employment opportunity regardless of race, creed, color, religion, gender, sexual orientation, gender identity/expression, national origin, disability, age, genetic information, veteran status, marital status, pregnancy or related condition (including breastfeeding), expecting or parents-to-be, criminal histories consistent with legal requirements, or any other basis protected by law. See also  Google's EEO Policy, Know your rights: workplace discrimination is illegal, Belonging at Google, and How we hire.More about usexpand_moreRelated informationexpand_moreEqual opportunityexpand_morePrivacyopen_in_newApplicant & Candidate Privacyopen_in_newTermsopen_in_newhelpHelpopen_in_newarrow_backBack to jobs searchSenior Technical Program Manager I, Infrastructure, Google Cloudshare linkCopy linkemailEmail a friendcorporate_fareGoogleplaceSunnyvale, CA, USA; Durham, NC, USA; +2 more; +1 morebar_chartAdvancedAdvancedExperience owning outcomes and decision making, solving ambiguous problems and influencing stakeholders; deep expertise in domain.Applyshare linkCopy linkemailEmail a friendinfo_outlineXNote: By applying to this position you will have an opportunity to share your preferred working location from the following: Sunnyvale, CA, USA; Durham, NC, USA; Raleigh, NC, USA.Minimum qualifications:\n",
      "Bachelor's degree or equivalent practical experience.\n",
      "8 years of experience in program management. \n",
      "8 years of infrastructure work experience.\n",
      "Preferred qualifications:\n",
      "8 years of experience managing cross-functional or cross-team projects.\n",
      "About the jobA problem isn’t truly solved until it’s solved for all. That’s why Googlers build products that help create opportunities for everyone, whether down the street or across the globe. As a Technical Program Manager at Google, you’ll use your technical expertise to lead complex, multi-disciplinary projects from start to finish. You’ll work with stakeholders to plan requirements, identify risks, manage project schedules, and communicate clearly with cross-functional partners across the company. You're equally comfortable explaining your team's analyses and recommendations to executives as you are discussing the technical tradeoffs in product development with engineers.\n",
      "The ML, Systems, & Cloud AI (MSCA) organization at Google designs, implements, and manages the hardware, software, machine learning, and systems infrastructure for all Google services (Search, YouTube, etc.) and Google Cloud. Our end users are Googlers, Cloud customers and the billions of people who use Google services around the world. We prioritize security, efficiency, and reliability across everything we do - from developing our latest TPUs to running a global network, while driving towards shaping the future of hyperscale computing. Our global impact spans software and hardware, including Google Cloud’s Vertex AI, the leading AI platform for bringing Gemini models to enterprise customers. \n",
      "The US base salary range for this full-time position is $183,000-$271,000 + bonus + equity + benefits. Our salary ranges are determined by role, level, and location. Within the range, individual pay is determined by work location and additional factors, including job-related skills, experience, and relevant education or training. Your recruiter can share more about the specific salary range for your preferred location during the hiring process.\n",
      "Please note that the compensation details listed in US role postings reflect the base salary only, and do not include bonus, equity, or benefits. Learn more about benefits at Google.Responsibilities\n",
      "Implement communications standards across a portfolio of programs including executive and key partner communications.  \n",
      "Establish a reliable and visible cadence for program reviews, decision-making, prioritization, and Resource Stewardship (effective deployment of machine and people resources) whereby improvements such as efficiency and utilization gains are measurable and the impact can be felt organization wide. \n",
      "Lead a governance structure that drives effective executive decision-making. Ensure governance structure effectively exposes and mitigates dependencies.  \n",
      "Seek out and identify change management opportunities that increase program velocity and which affect multiple teams. \n",
      "Define/manage a program portfolio solving problems that target high business impact for the organization and product area.\n",
      "Information collected and processed as part of your Google Careers profile, and any job applications you choose to submit is subject to Google's Applicant and Candidate Privacy Policy.Google is proud to be an equal opportunity and affirmative action employer. We are committed to building a workforce that is representative of the users we serve, creating a culture of belonging, and providing an equal employment opportunity regardless of race, creed, color, religion, gender, sexual orientation, gender identity/expression, national origin, disability, age, genetic information, veteran status, marital status, pregnancy or related condition (including breastfeeding), expecting or parents-to-be, criminal histories consistent with legal requirements, or any other basis protected by law. See also  Google's EEO Policy, Know your rights: workplace discrimination is illegal, Belonging at Google, and How we hire.If you have a need that requires accommodation, please let us know by completing our Accommodations for Applicants form.Google is a global company and, in order to facilitate efficient collaboration and communication globally, English proficiency is a requirement for all roles unless stated otherwise in the job posting.To all recruitment agencies: Google does not accept agency resumes. Please do not forward resumes to our jobs alias, Google employees, or any other organization location. Google is not responsible for any fees related to unsolicited resumes.Follow Life at Google on More about usAbout usopen_in_newContact usopen_in_newPressopen_in_newRelated InformationInvestor relationsopen_in_newBlogopen_in_newEqual OpportunityGoogle is proud to be an equal opportunity and affirmative action employer. We are committed to building a workforce that is representative of the users we serve, creating a culture of belonging, and providing an equal employment opportunity regardless of race, creed, color, religion, gender, sexual orientation, gender identity/expression, national origin, disability, age, genetic information, veteran status, marital status, pregnancy or related condition (including breastfeeding), expecting or parents-to-be, criminal histories consistent with legal requirements, or any other basis protected by law. See also  Google's EEO Policy, Know your rights: workplace discrimination is illegal, Belonging at Google, and How we hire.More about usexpand_moreRelated informationexpand_moreEqual opportunityexpand_morePrivacyopen_in_newApplicant & Candidate Privacyopen_in_newTermsopen_in_newhelpHelpopen_in_newFollow Life at Google on More about usAbout usopen_in_newContact usopen_in_newPressopen_in_newRelated InformationInvestor relationsopen_in_newBlogopen_in_newEqual OpportunityGoogle is proud to be an equal opportunity and affirmative action employer. We are committed to building a workforce that is representative of the users we serve, creating a culture of belonging, and providing an equal employment opportunity regardless of race, creed, color, religion, gender, sexual orientation, gender identity/expression, national origin, disability, age, genetic information, veteran status, marital status, pregnancy or related condition (including breastfeeding), expecting or parents-to-be, criminal histories consistent with legal requirements, or any other basis protected by law. See also  Google's EEO Policy, Know your rights: workplace discrimination is illegal, Belonging at Google, and How we hire.More about usexpand_moreRelated informationexpand_moreEqual opportunityexpand_morePrivacyopen_in_newApplicant & Candidate Privacyopen_in_newTermsopen_in_newhelpHelpopen_in_newGoogle appsMain menu\n"
     ]
    }
   ],
   "source": [
    "print(page_data)"
   ]
  },
  {
   "cell_type": "markdown",
   "id": "994269ee",
   "metadata": {},
   "source": [
    "## Loading llm from groq"
   ]
  },
  {
   "cell_type": "code",
   "execution_count": 9,
   "id": "905e96e0",
   "metadata": {},
   "outputs": [],
   "source": [
    "from langchain_groq import ChatGroq"
   ]
  },
  {
   "cell_type": "code",
   "execution_count": 10,
   "id": "90897a01",
   "metadata": {},
   "outputs": [],
   "source": [
    "llm = ChatGroq(\n",
    "\n",
    "    temperature = 0,\n",
    "    groq_api_key = \"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\",\n",
    "    model_name = \"llama-3.3-70b-versatile\"\n",
    "\n",
    ")"
   ]
  },
  {
   "cell_type": "code",
   "execution_count": null,
   "id": "ef58b0af",
   "metadata": {},
   "outputs": [],
   "source": []
  },
  {
   "cell_type": "code",
   "execution_count": null,
   "id": "8a77c1b4",
   "metadata": {},
   "outputs": [],
   "source": []
  },
  {
   "cell_type": "markdown",
   "id": "43233898",
   "metadata": {},
   "source": [
    "## Formatting scraped data"
   ]
  },
  {
   "cell_type": "code",
   "execution_count": 7,
   "id": "b60ea617",
   "metadata": {},
   "outputs": [],
   "source": [
    "from langchain_core.prompts import PromptTemplate"
   ]
  },
  {
   "cell_type": "code",
   "execution_count": 23,
   "id": "1519cac3",
   "metadata": {},
   "outputs": [],
   "source": [
    "prompt_extract = PromptTemplate.from_template(\n",
    "        \"\"\"\n",
    "        ### SCRAPED TEXT FROM WEBSITE:\n",
    "        {page_data}\n",
    "        ### INSTRUCTION:\n",
    "        The scraped text is from the career's page of a website.\n",
    "        Your job is to extract the job postings and return them in JSON format containing the \n",
    "        following keys: [\"role\", \"experience\", \"skills\" and \"description\".]\n",
    "        Only return the valid JSON.\n",
    "        ### VALID JSON (NO PREAMBLE):    \n",
    "        \"\"\"\n",
    ")"
   ]
  },
  {
   "cell_type": "code",
   "execution_count": 24,
   "id": "274e0ae2",
   "metadata": {},
   "outputs": [],
   "source": [
    "chain_extract = prompt_extract | llm\n",
    "res = chain_extract.invoke(input = {'page_data':page_data})"
   ]
  },
  {
   "cell_type": "code",
   "execution_count": 25,
   "id": "eeddefd9",
   "metadata": {},
   "outputs": [
    {
     "name": "stdout",
     "output_type": "stream",
     "text": [
      "```json\n",
      "[\n",
      "  {\n",
      "    \"role\": \"Senior Technical Program Manager I, Infrastructure, Google Cloud\",\n",
      "    \"experience\": \"8 years of experience in program management and 8 years of infrastructure work experience\",\n",
      "    \"skills\": \"Experience owning outcomes and decision making, solving ambiguous problems and influencing stakeholders; deep expertise in domain\",\n",
      "    \"description\": \"Implement communications standards across a portfolio of programs including executive and key partner communications. Establish a reliable and visible cadence for program reviews, decision-making, prioritization, and Resource Stewardship.\"\n",
      "  },\n",
      "  {\n",
      "    \"role\": \"Software Engineer III, Infrastructure, Core\",\n",
      "    \"experience\": \"Not specified\",\n",
      "    \"skills\": \"Not specified\",\n",
      "    \"description\": \"Not specified\"\n",
      "  },\n",
      "  {\n",
      "    \"role\": \"Senior Software Engineer, AI/ML GenAI, Google Cloud AI\",\n",
      "    \"experience\": \"Not specified\",\n",
      "    \"skills\": \"Not specified\",\n",
      "    \"description\": \"Not specified\"\n",
      "  },\n",
      "  {\n",
      "    \"role\": \"Technical Program Manager, Edge Capacity Delivery\",\n",
      "    \"experience\": \"Not specified\",\n",
      "    \"skills\": \"Not specified\",\n",
      "    \"description\": \"Not specified\"\n",
      "  },\n",
      "  {\n",
      "    \"role\": \"Software Engineer III, Google Cloud\",\n",
      "    \"experience\": \"Not specified\",\n",
      "    \"skills\": \"Not specified\",\n",
      "    \"description\": \"Not specified\"\n",
      "  },\n",
      "  {\n",
      "    \"role\": \"Senior Software Engineer, Core Data, Data Indexing\",\n",
      "    \"experience\": \"Not specified\",\n",
      "    \"skills\": \"Not specified\",\n",
      "    \"description\": \"Not specified\"\n",
      "  },\n",
      "  {\n",
      "    \"role\": \"Software Engineer, Photos\",\n",
      "    \"experience\": \"Not specified\",\n",
      "    \"skills\": \"Not specified\",\n",
      "    \"description\": \"Not specified\"\n",
      "  },\n",
      "  {\n",
      "    \"role\": \"Senior Analytical Lead, Americas App Leads\",\n",
      "    \"experience\": \"Not specified\",\n",
      "    \"skills\": \"Not specified\",\n",
      "    \"description\": \"Not specified\"\n",
      "  },\n",
      "  {\n",
      "    \"role\": \"Program Manager, Data Center Operations, Environmental, Health and Safety\",\n",
      "    \"experience\": \"Not specified\",\n",
      "    \"skills\": \"Not specified\",\n",
      "    \"description\": \"Not specified\"\n",
      "  },\n",
      "  {\n",
      "    \"role\": \"Product Engineer, ARM Servers and Storage Systems\",\n",
      "    \"experience\": \"Not specified\",\n",
      "    \"skills\": \"Not specified\",\n",
      "    \"description\": \"Not specified\"\n",
      "  },\n",
      "  {\n",
      "    \"role\": \"Software Engineer, gReach Program for People with Disabilities\",\n",
      "    \"experience\": \"Not specified\",\n",
      "    \"skills\": \"Not specified\",\n",
      "    \"description\": \"Not specified\"\n",
      "  },\n",
      "  {\n",
      "    \"role\": \"Kaggle Staff Software Engineer, AI/ML\",\n",
      "    \"experience\": \"Not specified\",\n",
      "    \"skills\": \"Not specified\",\n",
      "    \"description\": \"Not specified\"\n",
      "  },\n",
      "  {\n",
      "    \"role\": \"Data Center Business Program Manager\",\n",
      "    \"experience\": \"Not specified\",\n",
      "    \"skills\": \"Not specified\",\n",
      "    \"description\": \"Not specified\"\n",
      "  },\n",
      "  {\n",
      "    \"role\": \"Program Manager, Google Enterprise Networking, University Graduate\",\n",
      "    \"experience\": \"Not specified\",\n",
      "    \"skills\": \"Not specified\",\n",
      "    \"description\": \"Not specified\"\n",
      "  },\n",
      "  {\n",
      "    \"role\": \"Senior Internal Controls Manager\",\n",
      "    \"experience\": \"Not specified\",\n",
      "    \"skills\": \"Not specified\",\n",
      "    \"description\": \"Not specified\"\n",
      "  },\n",
      "  {\n",
      "    \"role\": \"CPU Performance Modeling Engineer, Google Cloud\",\n",
      "    \"experience\": \"Not specified\",\n",
      "    \"skills\": \"Not specified\",\n",
      "    \"description\": \"Not specified\"\n",
      "  },\n",
      "  {\n",
      "    \"role\": \"Staff Software Engineer, Chrome Accessibility\",\n",
      "    \"experience\": \"Not specified\",\n",
      "    \"skills\": \"Not specified\",\n",
      "    \"description\": \"Not specified\"\n",
      "  },\n",
      "  {\n",
      "    \"role\": \"Software Engineer III, Multiplatform\",\n",
      "    \"experience\": \"Not specified\",\n",
      "    \"skills\": \"Not specified\",\n",
      "    \"description\": \"Not specified\"\n",
      "  },\n",
      "  {\n",
      "    \"role\": \"Software Engineering Manager II, Administrative Access Platform\",\n",
      "    \"experience\": \"Not specified\",\n",
      "    \"skills\": \"Not specified\",\n",
      "    \"description\": \"Not specified\"\n",
      "  },\n",
      "  {\n",
      "    \"role\": \"Data Scientist, Research, App Safety Engineering\",\n",
      "    \"experience\": \"Not specified\",\n",
      "    \"skills\": \"Not specified\",\n",
      "    \"description\": \"Not specified\"\n",
      "  },\n",
      "  {\n",
      "    \"role\": \"Senior Manager, Clean Energy and Power\",\n",
      "    \"experience\": \"Not specified\",\n",
      "    \"skills\": \"Not specified\",\n",
      "    \"description\": \"Not specified\"\n",
      "  }\n",
      "]\n",
      "```\n"
     ]
    }
   ],
   "source": [
    "print(res.content)"
   ]
  },
  {
   "cell_type": "code",
   "execution_count": 26,
   "id": "a7e8f4f1",
   "metadata": {
    "scrolled": true
   },
   "outputs": [
    {
     "data": {
      "text/plain": [
       "[{'role': 'Senior Technical Program Manager I, Infrastructure, Google Cloud',\n",
       "  'experience': '8 years of experience in program management and 8 years of infrastructure work experience',\n",
       "  'skills': 'Experience owning outcomes and decision making, solving ambiguous problems and influencing stakeholders; deep expertise in domain',\n",
       "  'description': 'Implement communications standards across a portfolio of programs including executive and key partner communications. Establish a reliable and visible cadence for program reviews, decision-making, prioritization, and Resource Stewardship.'},\n",
       " {'role': 'Software Engineer III, Infrastructure, Core',\n",
       "  'experience': 'Not specified',\n",
       "  'skills': 'Not specified',\n",
       "  'description': 'Not specified'},\n",
       " {'role': 'Senior Software Engineer, AI/ML GenAI, Google Cloud AI',\n",
       "  'experience': 'Not specified',\n",
       "  'skills': 'Not specified',\n",
       "  'description': 'Not specified'},\n",
       " {'role': 'Technical Program Manager, Edge Capacity Delivery',\n",
       "  'experience': 'Not specified',\n",
       "  'skills': 'Not specified',\n",
       "  'description': 'Not specified'},\n",
       " {'role': 'Software Engineer III, Google Cloud',\n",
       "  'experience': 'Not specified',\n",
       "  'skills': 'Not specified',\n",
       "  'description': 'Not specified'},\n",
       " {'role': 'Senior Software Engineer, Core Data, Data Indexing',\n",
       "  'experience': 'Not specified',\n",
       "  'skills': 'Not specified',\n",
       "  'description': 'Not specified'},\n",
       " {'role': 'Software Engineer, Photos',\n",
       "  'experience': 'Not specified',\n",
       "  'skills': 'Not specified',\n",
       "  'description': 'Not specified'},\n",
       " {'role': 'Senior Analytical Lead, Americas App Leads',\n",
       "  'experience': 'Not specified',\n",
       "  'skills': 'Not specified',\n",
       "  'description': 'Not specified'},\n",
       " {'role': 'Program Manager, Data Center Operations, Environmental, Health and Safety',\n",
       "  'experience': 'Not specified',\n",
       "  'skills': 'Not specified',\n",
       "  'description': 'Not specified'},\n",
       " {'role': 'Product Engineer, ARM Servers and Storage Systems',\n",
       "  'experience': 'Not specified',\n",
       "  'skills': 'Not specified',\n",
       "  'description': 'Not specified'},\n",
       " {'role': 'Software Engineer, gReach Program for People with Disabilities',\n",
       "  'experience': 'Not specified',\n",
       "  'skills': 'Not specified',\n",
       "  'description': 'Not specified'},\n",
       " {'role': 'Kaggle Staff Software Engineer, AI/ML',\n",
       "  'experience': 'Not specified',\n",
       "  'skills': 'Not specified',\n",
       "  'description': 'Not specified'},\n",
       " {'role': 'Data Center Business Program Manager',\n",
       "  'experience': 'Not specified',\n",
       "  'skills': 'Not specified',\n",
       "  'description': 'Not specified'},\n",
       " {'role': 'Program Manager, Google Enterprise Networking, University Graduate',\n",
       "  'experience': 'Not specified',\n",
       "  'skills': 'Not specified',\n",
       "  'description': 'Not specified'},\n",
       " {'role': 'Senior Internal Controls Manager',\n",
       "  'experience': 'Not specified',\n",
       "  'skills': 'Not specified',\n",
       "  'description': 'Not specified'},\n",
       " {'role': 'CPU Performance Modeling Engineer, Google Cloud',\n",
       "  'experience': 'Not specified',\n",
       "  'skills': 'Not specified',\n",
       "  'description': 'Not specified'},\n",
       " {'role': 'Staff Software Engineer, Chrome Accessibility',\n",
       "  'experience': 'Not specified',\n",
       "  'skills': 'Not specified',\n",
       "  'description': 'Not specified'},\n",
       " {'role': 'Software Engineer III, Multiplatform',\n",
       "  'experience': 'Not specified',\n",
       "  'skills': 'Not specified',\n",
       "  'description': 'Not specified'},\n",
       " {'role': 'Software Engineering Manager II, Administrative Access Platform',\n",
       "  'experience': 'Not specified',\n",
       "  'skills': 'Not specified',\n",
       "  'description': 'Not specified'},\n",
       " {'role': 'Data Scientist, Research, App Safety Engineering',\n",
       "  'experience': 'Not specified',\n",
       "  'skills': 'Not specified',\n",
       "  'description': 'Not specified'},\n",
       " {'role': 'Senior Manager, Clean Energy and Power',\n",
       "  'experience': 'Not specified',\n",
       "  'skills': 'Not specified',\n",
       "  'description': 'Not specified'}]"
      ]
     },
     "execution_count": 26,
     "metadata": {},
     "output_type": "execute_result"
    }
   ],
   "source": [
    "from langchain_core.output_parsers import JsonOutputParser\n",
    "\n",
    "json_parser = JsonOutputParser()\n",
    "json_res = json_parser.parse(res.content)\n",
    "json_res\n"
   ]
  },
  {
   "cell_type": "code",
   "execution_count": 29,
   "id": "999751a3",
   "metadata": {},
   "outputs": [],
   "source": [
    "json_res = json_res[0]"
   ]
  },
  {
   "cell_type": "code",
   "execution_count": 31,
   "id": "494f1cd3",
   "metadata": {},
   "outputs": [],
   "source": [
    "job = json_res"
   ]
  },
  {
   "cell_type": "code",
   "execution_count": 32,
   "id": "ffc1505e",
   "metadata": {},
   "outputs": [
    {
     "data": {
      "text/plain": [
       "'Experience owning outcomes and decision making, solving ambiguous problems and influencing stakeholders; deep expertise in domain'"
      ]
     },
     "execution_count": 32,
     "metadata": {},
     "output_type": "execute_result"
    }
   ],
   "source": [
    "job[\"skills\"]"
   ]
  },
  {
   "cell_type": "code",
   "execution_count": null,
   "id": "fed202cd",
   "metadata": {},
   "outputs": [],
   "source": []
  },
  {
   "cell_type": "markdown",
   "id": "e8798afa",
   "metadata": {},
   "source": [
    "# Adding data to chromaDB"
   ]
  },
  {
   "cell_type": "code",
   "execution_count": 33,
   "id": "fcf60242",
   "metadata": {},
   "outputs": [],
   "source": [
    "import pandas as pd "
   ]
  },
  {
   "cell_type": "code",
   "execution_count": 34,
   "id": "5b06a556",
   "metadata": {},
   "outputs": [
    {
     "data": {
      "text/plain": [
       "(20, 2)"
      ]
     },
     "execution_count": 34,
     "metadata": {},
     "output_type": "execute_result"
    }
   ],
   "source": [
    "df = pd.read_csv(\"my_portfolio.csv\")\n",
    "df.shape"
   ]
  },
  {
   "cell_type": "code",
   "execution_count": 35,
   "id": "5bc58594",
   "metadata": {},
   "outputs": [],
   "source": [
    "import uuid\n",
    "import chromadb\n",
    "\n",
    "client = chromadb.PersistentClient('vectorstore')\n",
    "collection = client.get_or_create_collection(name=\"portfolio\")\n",
    "\n",
    "if not collection.count():\n",
    "    for _, row in df.iterrows():\n",
    "        collection.add(documents=row[\"Techstack\"],\n",
    "                       metadatas={\"links\": row[\"Links\"]},\n",
    "                       ids=[str(uuid.uuid4())])\n"
   ]
  },
  {
   "cell_type": "code",
   "execution_count": 36,
   "id": "7e0d20d1",
   "metadata": {},
   "outputs": [
    {
     "data": {
      "text/plain": [
       "[[{'links': 'https://example.com/devops-portfolio'},\n",
       "  {'links': 'https://example.com/ml-python-portfolio'}]]"
      ]
     },
     "execution_count": 36,
     "metadata": {},
     "output_type": "execute_result"
    }
   ],
   "source": [
    "links = collection.query(query_texts=job['skills'], n_results=2).get('metadatas', [])\n",
    "links\n"
   ]
  },
  {
   "cell_type": "code",
   "execution_count": null,
   "id": "6468c377",
   "metadata": {},
   "outputs": [],
   "source": []
  },
  {
   "cell_type": "markdown",
   "id": "2d244908",
   "metadata": {},
   "source": [
    "# Generate email "
   ]
  },
  {
   "cell_type": "code",
   "execution_count": 37,
   "id": "0eddc4f8",
   "metadata": {},
   "outputs": [],
   "source": [
    "prompt_email = PromptTemplate.from_template(\n",
    "        \"\"\"\n",
    "        ### JOB DESCRIPTION:\n",
    "        {job_description}\n",
    "        \n",
    "        ### INSTRUCTION:\n",
    "        You are Kiran, a business development executive at ABCDEF. ABCDEF is an AI & Software Consulting company dedicated to facilitating\n",
    "        the seamless integration of business processes through automated tools. \n",
    "        Over our experience, we have empowered numerous enterprises with tailored solutions, fostering scalability, \n",
    "        process optimization, cost reduction, and heightened overall efficiency. \n",
    "        Your job is to write a cold email to the client regarding the job mentioned above describing the capability of AtliQ \n",
    "        in fulfilling their needs.\n",
    "        Also add the most relevant ones from the following links to showcase ABCDEF's portfolio: {link_list}\n",
    "        Remember you are Kiran, BDE at ABCDEF. \n",
    "        Do not provide a preamble.\n",
    "        ### EMAIL (NO PREAMBLE):\n",
    "        \n",
    "        \"\"\"\n",
    "        )\n"
   ]
  },
  {
   "cell_type": "code",
   "execution_count": 38,
   "id": "2ea33beb",
   "metadata": {},
   "outputs": [],
   "source": [
    "chain_email = prompt_email | llm\n",
    "res = chain_email.invoke({\"job_description\": str(job), \"link_list\": links})"
   ]
  },
  {
   "cell_type": "code",
   "execution_count": 39,
   "id": "fd5f14d7",
   "metadata": {},
   "outputs": [
    {
     "name": "stdout",
     "output_type": "stream",
     "text": [
      "Subject: Expert Technical Program Management for Google Cloud Infrastructure\n",
      "\n",
      "Dear Hiring Manager,\n",
      "\n",
      "I came across the job description for a Senior Technical Program Manager I, Infrastructure, Google Cloud, and I am excited to introduce ABCDEF, a leading AI & Software Consulting company. With our expertise in facilitating seamless integration of business processes through automated tools, I believe we can help fulfill your requirements.\n",
      "\n",
      "At ABCDEF, we have a proven track record of empowering enterprises with tailored solutions, resulting in scalability, process optimization, cost reduction, and heightened overall efficiency. Our team has extensive experience in program management and infrastructure work, with a deep understanding of owning outcomes, decision-making, and solving ambiguous problems.\n",
      "\n",
      "We can help implement communications standards across your portfolio of programs, including executive and key partner communications. Our team can establish a reliable and visible cadence for program reviews, decision-making, prioritization, and Resource Stewardship. With our expertise in DevOps, we can ensure the seamless integration of your Google Cloud infrastructure, leveraging our experience in [https://example.com/devops-portfolio](https://example.com/devops-portfolio).\n",
      "\n",
      "Additionally, our expertise in Machine Learning and Python can be leveraged to develop customized solutions for your organization, as showcased in our portfolio: [https://example.com/ml-python-portfolio](https://example.com/ml-python-portfolio).\n",
      "\n",
      "I would be delighted to discuss how ABCDEF can support your technical program management needs and help drive success in your Google Cloud infrastructure initiatives. Please let me know if you would like to schedule a call to explore further.\n",
      "\n",
      "Best regards,\n",
      "Kiran\n",
      "Business Development Executive, ABCDEF\n"
     ]
    }
   ],
   "source": [
    "print(res.content)"
   ]
  },
  {
   "cell_type": "code",
   "execution_count": null,
   "id": "b3efe115",
   "metadata": {},
   "outputs": [],
   "source": []
  }
 ],
 "metadata": {
  "kernelspec": {
   "display_name": "Python 3 (ipykernel)",
   "language": "python",
   "name": "python3"
  },
  "language_info": {
   "codemirror_mode": {
    "name": "ipython",
    "version": 3
   },
   "file_extension": ".py",
   "mimetype": "text/x-python",
   "name": "python",
   "nbconvert_exporter": "python",
   "pygments_lexer": "ipython3",
   "version": "3.11.5"
  }
 },
 "nbformat": 4,
 "nbformat_minor": 5
}
